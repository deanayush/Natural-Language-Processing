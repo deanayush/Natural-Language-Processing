{
 "cells": [
  {
   "cell_type": "code",
   "execution_count": 7,
   "id": "6ca916d2",
   "metadata": {
    "id": "3RE7NULIPhwW"
   },
   "outputs": [],
   "source": [
    "# import libraries\n",
    "import pandas as pd\n",
    "import pickle\n",
    "import re\n",
    "import warnings\n",
    "import numpy as np\n",
    "\n",
    "warnings.filterwarnings('ignore')"
   ]
  },
  {
   "cell_type": "code",
   "execution_count": 8,
   "id": "3e3f7ccd",
   "metadata": {
    "colab": {
     "base_uri": "https://localhost:8080/",
     "height": 206
    },
    "id": "yQhHXw96P8ed",
    "outputId": "2056d186-a766-4d3f-b0be-3da3cc7b989a"
   },
   "outputs": [
    {
     "data": {
      "text/html": [
       "<div>\n",
       "<style scoped>\n",
       "    .dataframe tbody tr th:only-of-type {\n",
       "        vertical-align: middle;\n",
       "    }\n",
       "\n",
       "    .dataframe tbody tr th {\n",
       "        vertical-align: top;\n",
       "    }\n",
       "\n",
       "    .dataframe thead th {\n",
       "        text-align: right;\n",
       "    }\n",
       "</style>\n",
       "<table border=\"1\" class=\"dataframe\">\n",
       "  <thead>\n",
       "    <tr style=\"text-align: right;\">\n",
       "      <th></th>\n",
       "      <th>LABEL</th>\n",
       "      <th>DATE_TIME</th>\n",
       "      <th>TEXT</th>\n",
       "    </tr>\n",
       "  </thead>\n",
       "  <tbody>\n",
       "    <tr>\n",
       "      <th>0</th>\n",
       "      <td>0</td>\n",
       "      <td>Fri Jun 05 14:26:50 2009</td>\n",
       "      <td>About to get threaded and scared</td>\n",
       "    </tr>\n",
       "    <tr>\n",
       "      <th>1</th>\n",
       "      <td>1</td>\n",
       "      <td>Thu May 14 10:13:55 2009</td>\n",
       "      <td>@awaisnaseer I like Shezan Mangooo too!!! I ha...</td>\n",
       "    </tr>\n",
       "    <tr>\n",
       "      <th>2</th>\n",
       "      <td>1</td>\n",
       "      <td>Fri Jun 05 21:02:20 2009</td>\n",
       "      <td>worked on my car after work. showering then go...</td>\n",
       "    </tr>\n",
       "    <tr>\n",
       "      <th>3</th>\n",
       "      <td>1</td>\n",
       "      <td>Sun Jun 14 22:25:52 2009</td>\n",
       "      <td>@Marama Actually we start this afternoon!  I w...</td>\n",
       "    </tr>\n",
       "    <tr>\n",
       "      <th>4</th>\n",
       "      <td>1</td>\n",
       "      <td>Sun May 31 00:42:12 2009</td>\n",
       "      <td>@gfalcone601 Aww Gi.don't worry.we'll vote for...</td>\n",
       "    </tr>\n",
       "  </tbody>\n",
       "</table>\n",
       "</div>"
      ],
      "text/plain": [
       "   LABEL                 DATE_TIME  \\\n",
       "0      0  Fri Jun 05 14:26:50 2009   \n",
       "1      1  Thu May 14 10:13:55 2009   \n",
       "2      1  Fri Jun 05 21:02:20 2009   \n",
       "3      1  Sun Jun 14 22:25:52 2009   \n",
       "4      1  Sun May 31 00:42:12 2009   \n",
       "\n",
       "                                                TEXT  \n",
       "0                  About to get threaded and scared   \n",
       "1  @awaisnaseer I like Shezan Mangooo too!!! I ha...  \n",
       "2  worked on my car after work. showering then go...  \n",
       "3  @Marama Actually we start this afternoon!  I w...  \n",
       "4  @gfalcone601 Aww Gi.don't worry.we'll vote for...  "
      ]
     },
     "execution_count": 8,
     "metadata": {},
     "output_type": "execute_result"
    }
   ],
   "source": [
    "# read dataset\n",
    "df = pd.read_csv(\"A2_dataset.csv\")\n",
    "df.head()"
   ]
  },
  {
   "cell_type": "code",
   "execution_count": 9,
   "id": "4f785268",
   "metadata": {
    "colab": {
     "base_uri": "https://localhost:8080/"
    },
    "id": "w7ekqdIyQcsF",
    "outputId": "048bf2b9-7273-467a-e355-d39bfb160098"
   },
   "outputs": [
    {
     "data": {
      "text/plain": [
       "1    2287\n",
       "0    2000\n",
       "Name: LABEL, dtype: int64"
      ]
     },
     "execution_count": 9,
     "metadata": {},
     "output_type": "execute_result"
    }
   ],
   "source": [
    "# check count of each labels in dataset\n",
    "\n",
    "df.LABEL.value_counts()"
   ]
  },
  {
   "cell_type": "code",
   "execution_count": 10,
   "id": "16284a02",
   "metadata": {
    "colab": {
     "base_uri": "https://localhost:8080/"
    },
    "id": "fSnYA7yY78q0",
    "outputId": "3bae8ee1-b0e7-40a1-f035-a9592c67bd0e"
   },
   "outputs": [],
   "source": [
    "# # install libraries\n",
    "\n",
    "# import nltk\n",
    "\n",
    "# !pip install autocorrect\n",
    "# nltk.download('punkt')\n",
    "# nltk.download('stopwords')\n",
    "# nltk.download('wordnet')\n",
    "# nltk.download('omw-1.4')"
   ]
  },
  {
   "cell_type": "code",
   "execution_count": 11,
   "id": "fdc85651",
   "metadata": {},
   "outputs": [],
   "source": [
    "# import libraries\n",
    "\n",
    "from nltk.stem.snowball import stopwords\n",
    "from nltk.corpus import stopwords\n",
    "from nltk.tokenize import word_tokenize\n",
    "from nltk.stem import WordNetLemmatizer\n",
    "from nltk.corpus import wordnet\n",
    "from autocorrect import Speller"
   ]
  },
  {
   "cell_type": "code",
   "execution_count": 6,
   "id": "b22535e6",
   "metadata": {},
   "outputs": [],
   "source": [
    "def preprocess(df_temp):\n",
    "    # create required columns and initialize with 0\n",
    "    df_temp['white_space_removed'] = 0\n",
    "    df_temp['tokenized_data'] = 0\n",
    "    df_temp['stopword_removed_data'] = 0\n",
    "    df_temp['punct_removed_data'] = 0\n",
    "    df_temp['url_removed_data'] = 0\n",
    "    df_temp['spelling_checked_data'] = 0\n",
    "    df_temp['lemmetized_data'] = 0\n",
    "\n",
    "\n",
    "\n",
    "    # create object for lemmetizer and spelling checking\n",
    "    lemmatizer = WordNetLemmatizer()\n",
    "    spell = Speller(lang='en')\n",
    "\n",
    "\n",
    "    # iterate over each row of dataset and preprocess data\n",
    "    for i in range(df_temp.shape[0]):\n",
    "\n",
    "      # white space removel\n",
    "      df_temp['white_space_removed'][i] = re.sub(\"\\s+\", \" \", df_temp.TEXT[i])\n",
    "\n",
    "\n",
    "      # tokenization\n",
    "      lower = df_temp['white_space_removed'][i].lower()\n",
    "      tokenized_data = word_tokenize(lower)\n",
    "      df_temp['tokenized_data'][i] = tokenized_data\n",
    "      # print(tokenized_data)\n",
    "\n",
    "\n",
    "      # remove stopwords\n",
    "      stop_words = \"|\".join(stopwords.words('english'))\n",
    "      pattern = re.compile(r'\\b(' + stop_words + r')\\b\\s*')\n",
    "      stopword_removed_data = [pattern.sub(\"\", text) for text in tokenized_data]\n",
    "      stopword_removed_data = [x for x in stopword_removed_data if x]\n",
    "      df_temp['stopword_removed_data'][i] = stopword_removed_data \n",
    "      # print(stopword_removed_data)\n",
    "\n",
    "\n",
    "      # punctuation removel\n",
    "      punct_removed_data = [x for x in stopword_removed_data if x.isalnum()]\n",
    "      df_temp['punct_removed_data'][i] = punct_removed_data\n",
    "      # print(punct_removed_data)\n",
    "\n",
    "\n",
    "      # remove urls and html tags\n",
    "      urls = re.findall(\"https?://[a-zA-Z0-9_\\?=\\@\\/#=.~-]+\", \" \".join(punct_removed_data))\n",
    "      url_removed_data = [x for x in punct_removed_data if x not in urls]\n",
    "      df_temp['url_removed_data'][i] = url_removed_data\n",
    "      # print(url_removed_data)  \n",
    "\n",
    "\n",
    "      # spelling checking\n",
    "      spelling_checked_data = [spell(x) for x in url_removed_data]\n",
    "      df_temp['spelling_checked_data'][i] = spelling_checked_data\n",
    "      # print(spelling_checked_data)\n",
    "\n",
    "\n",
    "      # lemmetization\n",
    "      lemmas = []\n",
    "      for w in spelling_checked_data:\n",
    "        lemmas.append(lemmatizer.lemmatize(w, wordnet.VERB))\n",
    "      df_temp['lemmetized_data'][i] = lemmas\n",
    "\n",
    "\n",
    "    df_temp['preprocessed_txt']=0\n",
    "    for i in range(df_temp.shape[0]):\n",
    "        df_temp['preprocessed_txt'][i]=\" \".join(df_temp['lemmetized_data'][i])\n",
    "\n",
    "    display(df_temp.head(3))\n",
    "\n",
    "    df_temp = df_temp[['LABEL','DATE_TIME','preprocessed_txt']]\n",
    "    display(df_temp.head(3))\n",
    "\n",
    "\n",
    "    for i in range(df_temp.shape[0]):\n",
    "        x=df_temp['preprocessed_txt'][i]\n",
    "        if(type(x)!='str'):\n",
    "            x=str(x)\n",
    "        x = '<s> ' + x + ' </s>'\n",
    "        df_temp['preprocessed_txt'][i]=x\n",
    "        \n",
    "    \n",
    "    display(df_temp.head(3))\n",
    "    return df_temp"
   ]
  },
  {
   "cell_type": "code",
   "execution_count": 7,
   "id": "2ec39ba9",
   "metadata": {},
   "outputs": [],
   "source": [
    "# data = preprocess(df)\n",
    "# data.to_csv('A2_dataset_processed.csv',encoding='utf-8-sig', index=False)"
   ]
  },
  {
   "cell_type": "code",
   "execution_count": 12,
   "id": "4b161d17",
   "metadata": {},
   "outputs": [
    {
     "data": {
      "text/html": [
       "<div>\n",
       "<style scoped>\n",
       "    .dataframe tbody tr th:only-of-type {\n",
       "        vertical-align: middle;\n",
       "    }\n",
       "\n",
       "    .dataframe tbody tr th {\n",
       "        vertical-align: top;\n",
       "    }\n",
       "\n",
       "    .dataframe thead th {\n",
       "        text-align: right;\n",
       "    }\n",
       "</style>\n",
       "<table border=\"1\" class=\"dataframe\">\n",
       "  <thead>\n",
       "    <tr style=\"text-align: right;\">\n",
       "      <th></th>\n",
       "      <th>LABEL</th>\n",
       "      <th>DATE_TIME</th>\n",
       "      <th>preprocessed_txt</th>\n",
       "    </tr>\n",
       "  </thead>\n",
       "  <tbody>\n",
       "    <tr>\n",
       "      <th>0</th>\n",
       "      <td>0</td>\n",
       "      <td>Fri Jun 05 14:26:50 2009</td>\n",
       "      <td>&lt;s&gt; get thread scar &lt;/s&gt;</td>\n",
       "    </tr>\n",
       "    <tr>\n",
       "      <th>1</th>\n",
       "      <td>1</td>\n",
       "      <td>Thu May 14 10:13:55 2009</td>\n",
       "      <td>&lt;s&gt; awaisnaseer like sedan mango one yesterday...</td>\n",
       "    </tr>\n",
       "    <tr>\n",
       "      <th>2</th>\n",
       "      <td>1</td>\n",
       "      <td>Fri Jun 05 21:02:20 2009</td>\n",
       "      <td>&lt;s&gt; work car work show go bed sooooooooooo tir...</td>\n",
       "    </tr>\n",
       "  </tbody>\n",
       "</table>\n",
       "</div>"
      ],
      "text/plain": [
       "   LABEL                 DATE_TIME  \\\n",
       "0      0  Fri Jun 05 14:26:50 2009   \n",
       "1      1  Thu May 14 10:13:55 2009   \n",
       "2      1  Fri Jun 05 21:02:20 2009   \n",
       "\n",
       "                                    preprocessed_txt  \n",
       "0                           <s> get thread scar </s>  \n",
       "1  <s> awaisnaseer like sedan mango one yesterday...  \n",
       "2  <s> work car work show go bed sooooooooooo tir...  "
      ]
     },
     "execution_count": 12,
     "metadata": {},
     "output_type": "execute_result"
    }
   ],
   "source": [
    "data = pd.read_csv(\"A2_dataset_processed.csv\")\n",
    "data.head(3)"
   ]
  },
  {
   "cell_type": "markdown",
   "id": "23178a1c",
   "metadata": {},
   "source": [
    "## Question 1- smoothed frequencies of bigrams\n"
   ]
  },
  {
   "cell_type": "code",
   "execution_count": 13,
   "id": "8724cedc",
   "metadata": {},
   "outputs": [
    {
     "name": "stdout",
     "output_type": "stream",
     "text": [
      "7348\n",
      "7348\n"
     ]
    }
   ],
   "source": [
    "#count unigram frequencies and prepare vocabulary set\n",
    "\n",
    "vocab = set()\n",
    "unigram_count={}\n",
    "for x in data['preprocessed_txt'].to_list():\n",
    "    \n",
    "    for y in x.split():\n",
    "        vocab.add(y)\n",
    "        if y in unigram_count:\n",
    "            unigram_count[y]+=1\n",
    "        else:\n",
    "            unigram_count[y]=1\n",
    "\n",
    "print(len(vocab))\n",
    "print(len(unigram_count))\n",
    "vocab=list(vocab)"
   ]
  },
  {
   "cell_type": "code",
   "execution_count": 14,
   "id": "d0e55186",
   "metadata": {},
   "outputs": [
    {
     "data": {
      "text/plain": [
       "[(('<s>', 'get'), 67),\n",
       " (('get', 'thread'), 1),\n",
       " (('thread', 'scar'), 1),\n",
       " (('scar', '</s>'), 2),\n",
       " (('<s>', 'awaisnaseer'), 1)]"
      ]
     },
     "execution_count": 14,
     "metadata": {},
     "output_type": "execute_result"
    }
   ],
   "source": [
    "#count bigram frequencies of only existing bigrams; rest are trivially 0\n",
    "bigram_count={}      \n",
    "            \n",
    "            \n",
    "for line in data.preprocessed_txt.to_list():\n",
    "            list_words = line.split()\n",
    "            for k in range(len(list_words)-1):\n",
    "                i=list_words[k]\n",
    "                j=list_words[k+1]\n",
    "                if(i,j) in bigram_count:\n",
    "                    bigram_count[(i,j)]+=1\n",
    "                else:\n",
    "                    bigram_count[(i,j)]=1                \n",
    "                \n",
    "list(bigram_count.items())[:5]"
   ]
  },
  {
   "cell_type": "code",
   "execution_count": 11,
   "id": "87bb8851",
   "metadata": {},
   "outputs": [],
   "source": [
    "# calculate updated bigram probability using laplace transform over entire dataset and print top 4 \n",
    "v=vocab\n",
    "length=len(vocab)\n",
    "p_bigrams_lap={}\n",
    "for i in v:\n",
    "    for j in v:\n",
    "        if(i,j) in bigram_count:\n",
    "            p_bigrams_lap[(i,j)] = (bigram_count[(i,j)]+1)/(unigram_count[i]+length) \n",
    "        else:\n",
    "            p_bigrams_lap[(i,j)] = 1/(unigram_count[i]+length)\n",
    "            \n",
    "\n",
    "            \n",
    "list(p_bigrams_lap.items())[:5]"
   ]
  },
  {
   "cell_type": "markdown",
   "id": "e8a9bc77",
   "metadata": {},
   "source": [
    "## Save smoothed bigram language model\n"
   ]
  },
  {
   "cell_type": "code",
   "execution_count": 25,
   "id": "08b37f26",
   "metadata": {},
   "outputs": [],
   "source": [
    "with open('p_bigrams_lap.pickle', 'wb') as handle:\n",
    "    pickle.dump(p_bigrams_lap, handle, protocol=pickle.HIGHEST_PROTOCOL)\n",
    "del p_bigrams_lap"
   ]
  },
  {
   "cell_type": "code",
   "execution_count": 15,
   "id": "2070b959",
   "metadata": {},
   "outputs": [],
   "source": [
    "with open('p_bigrams_lap.pickle', 'rb') as handle:\n",
    "    p_bigrams_lap = pickle.load(handle)"
   ]
  },
  {
   "cell_type": "markdown",
   "id": "21be8603",
   "metadata": {},
   "source": [
    "## Top-4 bigrams and their score after smoothing."
   ]
  },
  {
   "cell_type": "code",
   "execution_count": 8,
   "id": "4a9f5537",
   "metadata": {
    "scrolled": true
   },
   "outputs": [
    {
     "name": "stdout",
     "output_type": "stream",
     "text": [
      "((‘http’, </s>), 0.014)\n",
      "((‘day’, </s>), 0.0089)\n",
      "((‘lol’, </s>), 0.0082)\n",
      "((‘work’, </s>), 0.0064)\n"
     ]
    }
   ],
   "source": [
    "from collections import Counter\n",
    "value ,count=[]\n",
    "value, count = Counter(p_bigrams_lap.values()).most_common(4)"
   ]
  },
  {
   "cell_type": "code",
   "execution_count": 16,
   "id": "c5495c50",
   "metadata": {},
   "outputs": [],
   "source": [
    "import random\n",
    "\n",
    "def next_word(context):#generate most probable next word after 'context'\n",
    "    r=random.random()\n",
    "    map_to_probs = {}\n",
    "    \n",
    "    for token in vocab:\n",
    "        map_to_probs[token] = p_bigrams_lap[(context, token)] #prob. of occurrence of each word 'token' after 'context'\n",
    "\n",
    "    summ = 0  #summ stores cumulative probabilities of occurrence of a word after a 'context' \n",
    "    for token in (map_to_probs):\n",
    "        summ += map_to_probs[token] \n",
    "        if (summ > r):\n",
    "            return token"
   ]
  },
  {
   "cell_type": "code",
   "execution_count": 17,
   "id": "7d487b33",
   "metadata": {
    "scrolled": true
   },
   "outputs": [],
   "source": [
    "def generate_text(): #returns 1 generated sentence\n",
    "\n",
    "        minn=7\n",
    "        maxx=20\n",
    "        context_queue = '<s>' #current last word seen/generated; sent as 'context' to next_word() function\n",
    "        result = ['<s>']  #entire sentence generated upto present time \n",
    "        \n",
    "        c = 1\n",
    "        while  c<=maxx :\n",
    "            obj = next_word(context_queue)\n",
    "            if obj == '</s>' and c <= minn:\n",
    "                continue\n",
    "            elif obj == '</s>' and c > minn:\n",
    "                break\n",
    "            else: \n",
    "                context_queue=obj\n",
    "                result.append(obj)\n",
    "                c += 1\n",
    "                            \n",
    "        result.append('</s>')\n",
    "        return ' '.join(result)"
   ]
  },
  {
   "cell_type": "code",
   "execution_count": 19,
   "id": "2556b5d0",
   "metadata": {},
   "outputs": [
    {
     "data": {
      "text/plain": [
       "['<s> joeymcintyre rfargnoli studios chicks durham perezhilton pictureeee tedmurphy by chess bakerzin di garage nude problems coke iilovejbxox eat sharenwatson shell </s>',\n",
       " '<s> split wb goodness jennluvs2sing partially jimmycostello everybody yard gps greater emmys20 goooooooooooooood swim you iris mnr barney iris plain sal </s>',\n",
       " '<s> back bacon pirrofina potency bendaubney oo online foreverivy bathroom lace shame business calibre passion unlike tinyurl stub mi88s mmmmmmm broadband </s>',\n",
       " '<s> michaels create dizzee phoooone configurable stardust channel foundation mygoldenchild17 2getting hahahahah facebook york ff curious soil purple tho caitlinlynn nose </s>',\n",
       " '<s> bananabby lucyfurleaps cinetrip 09 devonmarie78 fill subset chesterfield fly boleyn explorations 100 melissa officer plague paloooos case quieter assets 3rd </s>']"
      ]
     },
     "execution_count": 19,
     "metadata": {},
     "output_type": "execute_result"
    }
   ],
   "source": [
    "# generate required 500 sentences using smoothed probabilities\n",
    "sentences=[]\n",
    "for i in range(500):\n",
    "    sentences.append(generate_text())\n",
    "sentences[:5]"
   ]
  },
  {
   "cell_type": "code",
   "execution_count": 20,
   "id": "08c9dc26",
   "metadata": {},
   "outputs": [],
   "source": [
    "from vaderSentiment.vaderSentiment import SentimentIntensityAnalyzer\n",
    "\n",
    "scores = []\n",
    "mod_scores = []\n",
    "labels = []\n",
    "\n",
    "def sentiment_scores(sentence):\n",
    "    sid_obj = SentimentIntensityAnalyzer()\n",
    " \n",
    "    # polarity_scores method of SentimentIntensityAnalyzer\n",
    "    # object gives a sentiment dictionary.\n",
    "    # which contains pos, neg, neu, and compound scores.\n",
    "    \n",
    "    sentiment_dict = sid_obj.polarity_scores(sentence) \n",
    "    scores.append(sentiment_dict['compound'])\n",
    "    mod_scores.append(abs(sentiment_dict['compound']))\n",
    "    \n",
    "    # decide sentiment as positive, negative and neutral\n",
    "    if sentiment_dict['compound'] >= 0 :\n",
    "        labels.append(1)\n",
    "    else:\n",
    "        labels.append(0)\n",
    "        \n",
    "        \n",
    "for s in sentences:\n",
    "    sentiment_scores(s) "
   ]
  },
  {
   "cell_type": "code",
   "execution_count": 21,
   "id": "5895ca13",
   "metadata": {},
   "outputs": [
    {
     "data": {
      "text/html": [
       "<div>\n",
       "<style scoped>\n",
       "    .dataframe tbody tr th:only-of-type {\n",
       "        vertical-align: middle;\n",
       "    }\n",
       "\n",
       "    .dataframe tbody tr th {\n",
       "        vertical-align: top;\n",
       "    }\n",
       "\n",
       "    .dataframe thead th {\n",
       "        text-align: right;\n",
       "    }\n",
       "</style>\n",
       "<table border=\"1\" class=\"dataframe\">\n",
       "  <thead>\n",
       "    <tr style=\"text-align: right;\">\n",
       "      <th></th>\n",
       "      <th>sentences</th>\n",
       "      <th>labels</th>\n",
       "      <th>vader_scores</th>\n",
       "      <th>mod_vader_scores</th>\n",
       "    </tr>\n",
       "  </thead>\n",
       "  <tbody>\n",
       "    <tr>\n",
       "      <th>0</th>\n",
       "      <td>&lt;s&gt; joeymcintyre rfargnoli studios chicks durh...</td>\n",
       "      <td>0</td>\n",
       "      <td>-0.4019</td>\n",
       "      <td>0.4019</td>\n",
       "    </tr>\n",
       "    <tr>\n",
       "      <th>1</th>\n",
       "      <td>&lt;s&gt; split wb goodness jennluvs2sing partially ...</td>\n",
       "      <td>1</td>\n",
       "      <td>0.6705</td>\n",
       "      <td>0.6705</td>\n",
       "    </tr>\n",
       "    <tr>\n",
       "      <th>2</th>\n",
       "      <td>&lt;s&gt; back bacon pirrofina potency bendaubney oo...</td>\n",
       "      <td>0</td>\n",
       "      <td>-0.0258</td>\n",
       "      <td>0.0258</td>\n",
       "    </tr>\n",
       "    <tr>\n",
       "      <th>3</th>\n",
       "      <td>&lt;s&gt; michaels create dizzee phoooone configurab...</td>\n",
       "      <td>1</td>\n",
       "      <td>0.7351</td>\n",
       "      <td>0.7351</td>\n",
       "    </tr>\n",
       "    <tr>\n",
       "      <th>4</th>\n",
       "      <td>&lt;s&gt; bananabby lucyfurleaps cinetrip 09 devonma...</td>\n",
       "      <td>1</td>\n",
       "      <td>0.2500</td>\n",
       "      <td>0.2500</td>\n",
       "    </tr>\n",
       "  </tbody>\n",
       "</table>\n",
       "</div>"
      ],
      "text/plain": [
       "                                           sentences  labels  vader_scores  \\\n",
       "0  <s> joeymcintyre rfargnoli studios chicks durh...       0       -0.4019   \n",
       "1  <s> split wb goodness jennluvs2sing partially ...       1        0.6705   \n",
       "2  <s> back bacon pirrofina potency bendaubney oo...       0       -0.0258   \n",
       "3  <s> michaels create dizzee phoooone configurab...       1        0.7351   \n",
       "4  <s> bananabby lucyfurleaps cinetrip 09 devonma...       1        0.2500   \n",
       "\n",
       "   mod_vader_scores  \n",
       "0            0.4019  \n",
       "1            0.6705  \n",
       "2            0.0258  \n",
       "3            0.7351  \n",
       "4            0.2500  "
      ]
     },
     "execution_count": 21,
     "metadata": {},
     "output_type": "execute_result"
    }
   ],
   "source": [
    "df_no_beta = pd.DataFrame({'sentences': sentences, 'labels': labels, 'vader_scores': scores, 'mod_vader_scores': mod_scores})\n",
    "df_no_beta.head(5)"
   ]
  },
  {
   "cell_type": "code",
   "execution_count": 20,
   "id": "95090831",
   "metadata": {},
   "outputs": [],
   "source": [
    "df_no_beta.to_csv('df_no_beta', index=False)"
   ]
  },
  {
   "cell_type": "code",
   "execution_count": 21,
   "id": "98adc3ec",
   "metadata": {},
   "outputs": [],
   "source": [
    "df_no_beta = pd.read_csv('df_no_beta')\n",
    "mod_scores = df_no_beta.mod_vader_scores"
   ]
  },
  {
   "cell_type": "code",
   "execution_count": 87,
   "id": "e0561892",
   "metadata": {},
   "outputs": [
    {
     "name": "stdout",
     "output_type": "stream",
     "text": [
      "0.38433359999999983\n"
     ]
    }
   ],
   "source": [
    "avg_vader_score_no_beta = sum(mod_scores) / len(mod_scores)\n",
    "print(avg_vader_score_no_beta)"
   ]
  },
  {
   "cell_type": "code",
   "execution_count": 22,
   "id": "480b4f4a",
   "metadata": {},
   "outputs": [
    {
     "data": {
      "text/html": [
       "<div>\n",
       "<style scoped>\n",
       "    .dataframe tbody tr th:only-of-type {\n",
       "        vertical-align: middle;\n",
       "    }\n",
       "\n",
       "    .dataframe tbody tr th {\n",
       "        vertical-align: top;\n",
       "    }\n",
       "\n",
       "    .dataframe thead th {\n",
       "        text-align: right;\n",
       "    }\n",
       "</style>\n",
       "<table border=\"1\" class=\"dataframe\">\n",
       "  <thead>\n",
       "    <tr style=\"text-align: right;\">\n",
       "      <th></th>\n",
       "      <th>LABEL</th>\n",
       "      <th>DATE_TIME</th>\n",
       "      <th>preprocessed_txt</th>\n",
       "    </tr>\n",
       "  </thead>\n",
       "  <tbody>\n",
       "    <tr>\n",
       "      <th>1</th>\n",
       "      <td>1</td>\n",
       "      <td>Thu May 14 10:13:55 2009</td>\n",
       "      <td>&lt;s&gt; awaisnaseer like sedan mango one yesterday...</td>\n",
       "    </tr>\n",
       "    <tr>\n",
       "      <th>2</th>\n",
       "      <td>1</td>\n",
       "      <td>Fri Jun 05 21:02:20 2009</td>\n",
       "      <td>&lt;s&gt; work car work show go bed sooooooooooo tir...</td>\n",
       "    </tr>\n",
       "    <tr>\n",
       "      <th>3</th>\n",
       "      <td>1</td>\n",
       "      <td>Sun Jun 14 22:25:52 2009</td>\n",
       "      <td>&lt;s&gt; drama actually start afternoon try somethi...</td>\n",
       "    </tr>\n",
       "    <tr>\n",
       "      <th>4</th>\n",
       "      <td>1</td>\n",
       "      <td>Sun May 31 00:42:12 2009</td>\n",
       "      <td>&lt;s&gt; falcon601 www vote col love much &lt;/s&gt;</td>\n",
       "    </tr>\n",
       "    <tr>\n",
       "      <th>5</th>\n",
       "      <td>1</td>\n",
       "      <td>Sun May 17 03:26:30 2009</td>\n",
       "      <td>&lt;s&gt; mrstessyman ever good day love knitpicks &lt;/s&gt;</td>\n",
       "    </tr>\n",
       "  </tbody>\n",
       "</table>\n",
       "</div>"
      ],
      "text/plain": [
       "   LABEL                 DATE_TIME  \\\n",
       "1      1  Thu May 14 10:13:55 2009   \n",
       "2      1  Fri Jun 05 21:02:20 2009   \n",
       "3      1  Sun Jun 14 22:25:52 2009   \n",
       "4      1  Sun May 31 00:42:12 2009   \n",
       "5      1  Sun May 17 03:26:30 2009   \n",
       "\n",
       "                                    preprocessed_txt  \n",
       "1  <s> awaisnaseer like sedan mango one yesterday...  \n",
       "2  <s> work car work show go bed sooooooooooo tir...  \n",
       "3  <s> drama actually start afternoon try somethi...  \n",
       "4          <s> falcon601 www vote col love much </s>  \n",
       "5  <s> mrstessyman ever good day love knitpicks </s>  "
      ]
     },
     "metadata": {},
     "output_type": "display_data"
    }
   ],
   "source": [
    "df1 = data.loc[data.LABEL == 1]\n",
    "display(df1.head())"
   ]
  },
  {
   "cell_type": "code",
   "execution_count": 23,
   "id": "b453f1ee",
   "metadata": {},
   "outputs": [
    {
     "name": "stdout",
     "output_type": "stream",
     "text": [
      "5038\n",
      "5038\n"
     ]
    }
   ],
   "source": [
    "# unigram counts for datasets with only positive labels separately\n",
    "\n",
    "#unigram frequencies\n",
    "v1 = set()\n",
    "unigram_count1={}\n",
    "for x in df1['preprocessed_txt'].to_list():\n",
    "    \n",
    "    for y in x.split():\n",
    "        v1.add(y)\n",
    "        if y in unigram_count1:\n",
    "            unigram_count1[y]+=1\n",
    "        else:\n",
    "            unigram_count1[y]=1\n",
    "\n",
    "print(len(v1))\n",
    "print(len(unigram_count1))\n",
    "v1=list(v1)"
   ]
  },
  {
   "cell_type": "code",
   "execution_count": 24,
   "id": "5812a65d",
   "metadata": {},
   "outputs": [
    {
     "name": "stdout",
     "output_type": "stream",
     "text": [
      "[(('<s>', 'awaisnaseer'), 1), (('awaisnaseer', 'like'), 1), (('like', 'sedan'), 1), (('sedan', 'mango'), 1), (('mango', 'one'), 1)]\n"
     ]
    }
   ],
   "source": [
    "#count bigram frequencies of only existing bigrams for positive label sentences; rest are trivially 0\n",
    "bigram_count1={}      \n",
    "            \n",
    "            \n",
    "for line in df1.preprocessed_txt.to_list():\n",
    "            list_words = line.split()\n",
    "            for k in range(len(list_words)-1):\n",
    "                i=list_words[k]\n",
    "                j=list_words[k+1]\n",
    "                if(i,j) in bigram_count1:\n",
    "                    bigram_count1[(i,j)]+=1\n",
    "                else:\n",
    "                    bigram_count1[(i,j)]=1                \n",
    "                \n",
    "print(list(bigram_count1.items())[:5])"
   ]
  },
  {
   "cell_type": "code",
   "execution_count": 33,
   "id": "16eab718",
   "metadata": {},
   "outputs": [],
   "source": [
    "#calculate updated bigram probability using laplace transform over entire dataset\n",
    "length=len(v1)\n",
    "p_bigrams_lap1={}\n",
    "for i in v1:\n",
    "    for j in v1:\n",
    "        if (i,j) in bigram_count1:\n",
    "            p_bigrams_lap1[(i,j)] = (bigram_count1[(i,j)]+1)/(unigram_count1[i]+length) \n",
    "        else:\n",
    "            p_bigrams_lap1[(i,j)] = 1/(unigram_count1[i]+length)\n",
    "            \n",
    "list(p_bigrams_lap1.items())[:5]"
   ]
  },
  {
   "cell_type": "code",
   "execution_count": 28,
   "id": "e1289bb5",
   "metadata": {},
   "outputs": [],
   "source": [
    "with open('p_bigrams_lap1.pickle', 'wb') as handle:\n",
    "    pickle.dump(p_bigrams_lap1, handle, protocol=pickle.HIGHEST_PROTOCOL)"
   ]
  },
  {
   "cell_type": "code",
   "execution_count": 29,
   "id": "6cf73c02",
   "metadata": {},
   "outputs": [],
   "source": [
    "with open('p_bigrams_lap1.pickle', 'rb') as handle:\n",
    "    p_bigrams_lap1 = pickle.load(handle)"
   ]
  },
  {
   "cell_type": "code",
   "execution_count": 30,
   "id": "87a1a418",
   "metadata": {},
   "outputs": [],
   "source": [
    "del p_bigrams_lap1"
   ]
  },
  {
   "cell_type": "code",
   "execution_count": 31,
   "id": "6e38c271",
   "metadata": {},
   "outputs": [],
   "source": [
    "# calculating smoothed bigram prob including beta\n",
    "length = len(vocab)\n",
    "p_bigrams_beta1 = {}\n",
    "\n",
    "for i in vocab:\n",
    "    for j in vocab:\n",
    "        if (i,j) not in bigram_count and (i,j) not in bigram_count1 and i not in unigram_count1:\n",
    "            p_bigrams_beta1[(i,j)] = ((0 + 1 + 5*0) / (unigram_count[i] + length + 5*0))\n",
    "        elif (i,j) in bigram_count and (i,j) not in bigram_count1 and i not in unigram_count1:\n",
    "            p_bigrams_beta1[(i,j)] = ((bigram_count[(i,j)] + 1 + 5*0) / \n",
    "                                     (unigram_count[i] + length + 5*0))        \n",
    "        elif (i,j) not in bigram_count and (i,j) not in bigram_count1 and i in unigram_count1:\n",
    "            p_bigrams_beta1[(i,j)] = ((0 + 1 + 5*0) / \n",
    "                                     (unigram_count[i] + length + 5*unigram_count1[i]))\n",
    "        elif (i,j) in bigram_count and (i,j) not in bigram_count1 and i in unigram_count1:\n",
    "            p_bigrams_beta1[(i,j)] = ((bigram_count[(i,j)] + 1 + 5*0) / \n",
    "                                     (unigram_count[i] + length + 5*unigram_count1[i]))\n",
    "        elif (i,j) in bigram_count and (i,j) in bigram_count1 and i in unigram_count1:\n",
    "            p_bigrams_beta1[(i,j)] = ((bigram_count[(i,j)] + 1 + 5*bigram_count1[(i,j)]) / \n",
    "                                     (unigram_count[i] + length + 5*unigram_count1[i]))        \n",
    "list(p_bigrams_beta1.items())[:5]"
   ]
  },
  {
   "cell_type": "code",
   "execution_count": 32,
   "id": "ab5c263c",
   "metadata": {},
   "outputs": [],
   "source": [
    "# with open('p_bigrams_beta1.pickle', 'wb') as handle:\n",
    "#     pickle.dump(p_bigrams_beta1, handle, protocol=pickle.HIGHEST_PROTOCOL)"
   ]
  },
  {
   "cell_type": "code",
   "execution_count": 41,
   "id": "e3893f09",
   "metadata": {},
   "outputs": [],
   "source": [
    "del p_bigrams_beta1"
   ]
  },
  {
   "cell_type": "code",
   "execution_count": 42,
   "id": "fe165218",
   "metadata": {},
   "outputs": [],
   "source": [
    "with open('p_bigrams_beta1.pickle', 'rb') as handle:\n",
    "    p_bigrams_beta1 = pickle.load(handle)"
   ]
  },
  {
   "cell_type": "code",
   "execution_count": 43,
   "id": "4acb499d",
   "metadata": {},
   "outputs": [],
   "source": [
    "import random\n",
    "\n",
    "def next_word(context):#generate most probable next word after 'context'\n",
    "    r=random.random()\n",
    "    map_to_probs = {}\n",
    "    \n",
    "    for token in vocab:\n",
    "        map_to_probs[token] = p_bigrams_beta1[(context, token)] #prob. of occurrence of each word 'token' after 'context'\n",
    "\n",
    "    summ = 0  #summ stores cumulative probabilities of occurrence of a word after a 'context' \n",
    "    for token in (map_to_probs):\n",
    "        summ += map_to_probs[token] \n",
    "        if (summ > r):\n",
    "            return token\n",
    "\n",
    "\n",
    "def generate_text(): #returns 1 generated sentence\n",
    "\n",
    "        minn=7\n",
    "        maxx=20\n",
    "        context_queue = '<s>' #current last word seen/generated; sent as 'context' to next_word() function\n",
    "        result = ['<s>']  #entire sentence generated upto present time \n",
    "        \n",
    "        c = 1\n",
    "        while  c<=maxx :\n",
    "            obj = next_word(context_queue)\n",
    "            if obj == '</s>' and c <= minn:\n",
    "                continue\n",
    "            elif obj == '</s>' and c > minn:\n",
    "                break\n",
    "            else: \n",
    "                context_queue=obj\n",
    "                result.append(obj)\n",
    "                c += 1\n",
    "                            \n",
    "        result.append('</s>')\n",
    "        return ' '.join(result)"
   ]
  },
  {
   "cell_type": "code",
   "execution_count": 44,
   "id": "f58a14e9",
   "metadata": {},
   "outputs": [
    {
     "data": {
      "text/plain": [
       "['<s> bnp nicole unblock conference tight ahahahhahaahhahh range91 bball comformfortable itschristablack fancy reign bella vis stevebrunton carcassonne brothers teemwilliams receive survive </s>',\n",
       " '<s> poster quit piratesswoop cartoon mynameisforge rd kudos africa airlines advantage brothers god4movers thunderstorm algebra iranelection kris daviddjfrancis twice scratch macabroso </s>',\n",
       " '<s> thelarssan 45sinyoureyes hairbrained nuggets straight gotta menu19 arent soo kirstiealley stay joey stuff woofwednesday cant decline gv odds handy jaffacakes </s>',\n",
       " '<s> get lucas mrsmcflygrimmy redemption teenhearts worth katie freshman form nm animal chloe border lay greatness food broadcast creamcheese mwuahmwuah nanny </s>',\n",
       " '<s> goodnight boil downstairs u ataxia pink doingwork xiaomantous moscow mate recognition marshal app mitchelmusso lonely psp ten latitude euphemism faire </s>']"
      ]
     },
     "execution_count": 44,
     "metadata": {},
     "output_type": "execute_result"
    }
   ],
   "source": [
    "#genrate 500 sentences using smoothed probabilities with beta positive\n",
    "sentences_beta1 = []\n",
    "\n",
    "for i in range(500):\n",
    "    sentences_beta1.append(generate_text())\n",
    "sentences_beta1[:5]"
   ]
  },
  {
   "cell_type": "code",
   "execution_count": 39,
   "id": "349ea0b1",
   "metadata": {},
   "outputs": [],
   "source": [
    "from vaderSentiment.vaderSentiment import SentimentIntensityAnalyzer\n",
    "\n",
    "scores_beta1 = []\n",
    "mod_scores_beta1 = []\n",
    "labels_beta1 = []\n",
    "\n",
    "def sentiment_scores(sentence):\n",
    "    sid_obj = SentimentIntensityAnalyzer()\n",
    " \n",
    "    # polarity_scores method of SentimentIntensityAnalyzer\n",
    "    # object gives a sentiment dictionary.\n",
    "    # which contains pos, neg, neu, and compound scores.\n",
    "    \n",
    "    sentiment_dict = sid_obj.polarity_scores(sentence) \n",
    "    scores_beta1.append(sentiment_dict['compound'])\n",
    "    mod_scores_beta1.append(abs(sentiment_dict['compound']))\n",
    "    \n",
    "    # decide sentiment as positive, negative and neutral\n",
    "    if sentiment_dict['compound'] >= 0 :\n",
    "        labels_beta1.append(1)\n",
    "    else:\n",
    "        labels_beta1.append(0)\n",
    "        \n",
    "        \n",
    "for s in sentences_beta1:\n",
    "    sentiment_scores(s) \n",
    "\n",
    "\n",
    "df_beta1 = pd.DataFrame({'sentences with beta positive': sentences_beta1, 'labels': labels_beta1, 'vader_scores': scores_beta1, 'mod_vader_scores': mod_scores_beta1})\n",
    "display(df_beta1.head(5))\n",
    "\n",
    "df_beta1.to_csv('df_beta1')\n",
    "\n",
    "df_beta1 = pd.read_csv('df_beta1')\n",
    "mod_scores_beta1 = df_beta1.mod_vader_scores\n",
    "\n",
    "avg_vader_score_beta1 = sum(mod_scores_beta1) / len(mod_scores_beta1)\n",
    "print(avg_vader_score_beta1)"
   ]
  },
  {
   "cell_type": "code",
   "execution_count": 45,
   "id": "59e9a723",
   "metadata": {},
   "outputs": [],
   "source": [
    "del p_bigrams_beta1"
   ]
  },
  {
   "cell_type": "markdown",
   "id": "1367c2db",
   "metadata": {},
   "source": [
    "## Negative sentance generation"
   ]
  },
  {
   "cell_type": "code",
   "execution_count": 46,
   "id": "f25dd693",
   "metadata": {},
   "outputs": [
    {
     "data": {
      "text/html": [
       "<div>\n",
       "<style scoped>\n",
       "    .dataframe tbody tr th:only-of-type {\n",
       "        vertical-align: middle;\n",
       "    }\n",
       "\n",
       "    .dataframe tbody tr th {\n",
       "        vertical-align: top;\n",
       "    }\n",
       "\n",
       "    .dataframe thead th {\n",
       "        text-align: right;\n",
       "    }\n",
       "</style>\n",
       "<table border=\"1\" class=\"dataframe\">\n",
       "  <thead>\n",
       "    <tr style=\"text-align: right;\">\n",
       "      <th></th>\n",
       "      <th>LABEL</th>\n",
       "      <th>DATE_TIME</th>\n",
       "      <th>preprocessed_txt</th>\n",
       "    </tr>\n",
       "  </thead>\n",
       "  <tbody>\n",
       "    <tr>\n",
       "      <th>0</th>\n",
       "      <td>0</td>\n",
       "      <td>Fri Jun 05 14:26:50 2009</td>\n",
       "      <td>&lt;s&gt; get thread scar &lt;/s&gt;</td>\n",
       "    </tr>\n",
       "    <tr>\n",
       "      <th>9</th>\n",
       "      <td>0</td>\n",
       "      <td>Wed Jun 17 09:18:19 2009</td>\n",
       "      <td>&lt;s&gt; need shake gloomy feel maybe rain &lt;/s&gt;</td>\n",
       "    </tr>\n",
       "    <tr>\n",
       "      <th>10</th>\n",
       "      <td>0</td>\n",
       "      <td>Mon Jun 22 13:51:56 2009</td>\n",
       "      <td>&lt;s&gt; minecraft ride sarah still afraid ride any...</td>\n",
       "    </tr>\n",
       "    <tr>\n",
       "      <th>12</th>\n",
       "      <td>0</td>\n",
       "      <td>Fri May 22 00:37:02 2009</td>\n",
       "      <td>&lt;s&gt; sokendrakouture yea alone &lt;/s&gt;</td>\n",
       "    </tr>\n",
       "    <tr>\n",
       "      <th>18</th>\n",
       "      <td>0</td>\n",
       "      <td>Thu May 21 23:50:48 2009</td>\n",
       "      <td>&lt;s&gt; flyingbolt good without &lt;/s&gt;</td>\n",
       "    </tr>\n",
       "  </tbody>\n",
       "</table>\n",
       "</div>"
      ],
      "text/plain": [
       "    LABEL                 DATE_TIME  \\\n",
       "0       0  Fri Jun 05 14:26:50 2009   \n",
       "9       0  Wed Jun 17 09:18:19 2009   \n",
       "10      0  Mon Jun 22 13:51:56 2009   \n",
       "12      0  Fri May 22 00:37:02 2009   \n",
       "18      0  Thu May 21 23:50:48 2009   \n",
       "\n",
       "                                     preprocessed_txt  \n",
       "0                            <s> get thread scar </s>  \n",
       "9          <s> need shake gloomy feel maybe rain </s>  \n",
       "10  <s> minecraft ride sarah still afraid ride any...  \n",
       "12                 <s> sokendrakouture yea alone </s>  \n",
       "18                   <s> flyingbolt good without </s>  "
      ]
     },
     "metadata": {},
     "output_type": "display_data"
    }
   ],
   "source": [
    "df2 = data.loc[data.LABEL == 0]\n",
    "display(df2.head())"
   ]
  },
  {
   "cell_type": "code",
   "execution_count": 47,
   "id": "f06262b2",
   "metadata": {},
   "outputs": [
    {
     "name": "stdout",
     "output_type": "stream",
     "text": [
      "4216\n",
      "4216\n"
     ]
    }
   ],
   "source": [
    "# unigram counts, bigram counts, bigram prob(unsmoothed), bigram prob(smoothed):  for datasets with only negative\n",
    "# labels \n",
    "#unigram frequencies\n",
    "\n",
    "v2 = set()\n",
    "unigram_count2 = {}\n",
    "\n",
    "for x in df2['preprocessed_txt'].to_list():\n",
    "    for y in x.split():\n",
    "        v2.add(y)\n",
    "        if y in unigram_count2:\n",
    "            unigram_count2[y]+=1\n",
    "        else:\n",
    "            unigram_count2[y]=1\n",
    "\n",
    "print(len(v2))\n",
    "print(len(unigram_count2))\n",
    "v2 = list(v2)"
   ]
  },
  {
   "cell_type": "code",
   "execution_count": 48,
   "id": "27dc66a4",
   "metadata": {},
   "outputs": [
    {
     "name": "stdout",
     "output_type": "stream",
     "text": [
      "[(('<s>', 'get'), 28), (('get', 'thread'), 1), (('thread', 'scar'), 1), (('scar', '</s>'), 2), (('<s>', 'need'), 9)]\n"
     ]
    }
   ],
   "source": [
    "#count bigram frequencies of only existing bigrams for negative label sentences; rest are trivially 0\n",
    "\n",
    "bigram_count2 = {}\n",
    "            \n",
    "for line in df2.preprocessed_txt.to_list():\n",
    "            list_words = line.split()\n",
    "            for k in range(len(list_words)-1):\n",
    "                i=list_words[k]\n",
    "                j=list_words[k+1]\n",
    "                if(i,j) in bigram_count2:\n",
    "                    bigram_count2[(i,j)]+=1\n",
    "                else:\n",
    "                    bigram_count2[(i,j)]=1                \n",
    "                \n",
    "print(list(bigram_count2.items())[:5])"
   ]
  },
  {
   "cell_type": "code",
   "execution_count": 45,
   "id": "c1f63c2a",
   "metadata": {},
   "outputs": [],
   "source": [
    "# calculating smoothed bigram prob including beta\n",
    "length = len(vocab)\n",
    "p_bigrams_beta2 = {}\n",
    "\n",
    "for i in vocab:\n",
    "    for j in vocab:\n",
    "        if (i,j) not in bigram_count and (i,j) not in bigram_count2 and i not in unigram_count2:\n",
    "            p_bigrams_beta2[(i,j)] = ((0 + 1 + 3*0) / (unigram_count[i] + length + 3*0))\n",
    "        elif (i,j) in bigram_count and (i,j) not in bigram_count2 and i not in unigram_count2:\n",
    "            p_bigrams_beta2[(i,j)] = ((bigram_count[(i,j)] + 1 + 3*0) / \n",
    "                                     (unigram_count[i] + length + 3*0))        \n",
    "        elif (i,j) not in bigram_count and (i,j) not in bigram_count2 and i in unigram_count2:\n",
    "            p_bigrams_beta2[(i,j)] = ((0 + 1 + 3*0) / \n",
    "                                     (unigram_count[i] + length + 3*unigram_count2[i]))\n",
    "        elif (i,j) in bigram_count and (i,j) not in bigram_count2 and i in unigram_count2:\n",
    "            p_bigrams_beta2[(i,j)] = ((bigram_count[(i,j)] + 1 + 3*0) / \n",
    "                                     (unigram_count[i] + length + 3*unigram_count2[i]))\n",
    "        elif (i,j) in bigram_count and (i,j) in bigram_count2 and i in unigram_count2:\n",
    "            p_bigrams_beta2[(i,j)] = ((bigram_count[(i,j)] + 1 + 3*bigram_count2[(i,j)]) / \n",
    "                                     (unigram_count[i] + length + 3*unigram_count2[i]))        \n",
    "list(p_bigrams_beta2.items())[:5]"
   ]
  },
  {
   "cell_type": "code",
   "execution_count": 60,
   "id": "5e406736",
   "metadata": {},
   "outputs": [],
   "source": [
    "del p_bigrams_beta2"
   ]
  },
  {
   "cell_type": "code",
   "execution_count": 61,
   "id": "578838a4",
   "metadata": {},
   "outputs": [],
   "source": [
    "# with open('p_bigrams_beta2.pickle', 'wb') as handle:\n",
    "#     pickle.dump(p_bigrams_beta2, handle, protocol=pickle.HIGHEST_PROTOCOL)\n",
    "\n",
    "# del p_bigrams_beta2\n",
    "\n",
    "with open('p_bigrams_beta2.pickle', 'rb') as handle:\n",
    "    p_bigrams_beta2 = pickle.load(handle)"
   ]
  },
  {
   "cell_type": "code",
   "execution_count": 65,
   "id": "afd94b20",
   "metadata": {},
   "outputs": [],
   "source": [
    "import random\n",
    "\n",
    "def next_word(context):#generate most probable next word after 'context'\n",
    "    r=random.random()\n",
    "    map_to_probs = {}\n",
    "    \n",
    "    for token in vocab:\n",
    "        map_to_probs[token] = p_bigrams_beta2[(context, token)] #prob. of occurrence of each word 'token' after 'context'\n",
    "\n",
    "    summ = 0  #summ stores cumulative probabilities of occurrence of a word after a 'context' \n",
    "    for token in (map_to_probs):\n",
    "        summ += map_to_probs[token] \n",
    "        if (summ > r):\n",
    "            return token\n",
    "\n",
    "\n",
    "def generate_text(): #returns 1 generated sentence\n",
    "\n",
    "        minn=7\n",
    "        maxx=20\n",
    "        context_queue = '<s>' #current last word seen/generated; sent as 'context' to next_word() function\n",
    "        result = ['<s>']  #entire sentence generated upto present time \n",
    "        \n",
    "        c = 1\n",
    "        while  c<=maxx :\n",
    "            obj = next_word(context_queue)\n",
    "            if obj == '</s>' and c <= minn:\n",
    "                continue\n",
    "            elif obj == '</s>' and c > minn:\n",
    "                break\n",
    "            else: \n",
    "                context_queue=obj\n",
    "                result.append(obj)\n",
    "                c += 1\n",
    "                            \n",
    "        result.append('</s>')\n",
    "        return ' '.join(result)\n",
    "    \n",
    "\n",
    "#genrate 500 sentences using smoothed probabilities with beta negative\n",
    "sentences_beta2 = []\n",
    "for i in range(500):\n",
    "    sentences_beta2.append(generate_text())\n",
    "sentences_beta2[:5]"
   ]
  },
  {
   "cell_type": "code",
   "execution_count": 45,
   "id": "050b293c",
   "metadata": {},
   "outputs": [
    {
     "data": {
      "text/html": [
       "<div>\n",
       "<style scoped>\n",
       "    .dataframe tbody tr th:only-of-type {\n",
       "        vertical-align: middle;\n",
       "    }\n",
       "\n",
       "    .dataframe tbody tr th {\n",
       "        vertical-align: top;\n",
       "    }\n",
       "\n",
       "    .dataframe thead th {\n",
       "        text-align: right;\n",
       "    }\n",
       "</style>\n",
       "<table border=\"1\" class=\"dataframe\">\n",
       "  <thead>\n",
       "    <tr style=\"text-align: right;\">\n",
       "      <th></th>\n",
       "      <th>sentences with beta negative</th>\n",
       "      <th>labels</th>\n",
       "      <th>vader_scores</th>\n",
       "      <th>mod_vader_scores</th>\n",
       "    </tr>\n",
       "  </thead>\n",
       "  <tbody>\n",
       "    <tr>\n",
       "      <th>0</th>\n",
       "      <td>&lt;s&gt; physics engineer renew lucyfurleaps aghhhh...</td>\n",
       "      <td>0</td>\n",
       "      <td>0.0000</td>\n",
       "      <td>0.0000</td>\n",
       "    </tr>\n",
       "    <tr>\n",
       "      <th>1</th>\n",
       "      <td>&lt;s&gt; catch stanmorerob scene itsconsiderate den...</td>\n",
       "      <td>0</td>\n",
       "      <td>-0.2755</td>\n",
       "      <td>0.2755</td>\n",
       "    </tr>\n",
       "    <tr>\n",
       "      <th>2</th>\n",
       "      <td>&lt;s&gt; drop asleep filter pump cincinnati label22...</td>\n",
       "      <td>0</td>\n",
       "      <td>-0.7783</td>\n",
       "      <td>0.7783</td>\n",
       "    </tr>\n",
       "    <tr>\n",
       "      <th>3</th>\n",
       "      <td>&lt;s&gt; moanyboot nut kimboyee rotors line sex gal...</td>\n",
       "      <td>0</td>\n",
       "      <td>0.0000</td>\n",
       "      <td>0.0000</td>\n",
       "    </tr>\n",
       "    <tr>\n",
       "      <th>4</th>\n",
       "      <td>&lt;s&gt; ery barrios lee outdoors loveeee ubuntu pa...</td>\n",
       "      <td>1</td>\n",
       "      <td>0.3400</td>\n",
       "      <td>0.3400</td>\n",
       "    </tr>\n",
       "  </tbody>\n",
       "</table>\n",
       "</div>"
      ],
      "text/plain": [
       "                        sentences with beta negative  labels  vader_scores  \\\n",
       "0  <s> physics engineer renew lucyfurleaps aghhhh...       0        0.0000   \n",
       "1  <s> catch stanmorerob scene itsconsiderate den...       0       -0.2755   \n",
       "2  <s> drop asleep filter pump cincinnati label22...       0       -0.7783   \n",
       "3  <s> moanyboot nut kimboyee rotors line sex gal...       0        0.0000   \n",
       "4  <s> ery barrios lee outdoors loveeee ubuntu pa...       1        0.3400   \n",
       "\n",
       "   mod_vader_scores  \n",
       "0            0.0000  \n",
       "1            0.2755  \n",
       "2            0.7783  \n",
       "3            0.0000  \n",
       "4            0.3400  "
      ]
     },
     "metadata": {},
     "output_type": "display_data"
    },
    {
     "name": "stdout",
     "output_type": "stream",
     "text": [
      "0.39034340000000023\n"
     ]
    }
   ],
   "source": [
    "from vaderSentiment.vaderSentiment import SentimentIntensityAnalyzer\n",
    "\n",
    "scores_beta2 = []\n",
    "mod_scores_beta2 = []\n",
    "labels_beta2 = []\n",
    "\n",
    "def sentiment_scores(sentence):\n",
    "    sid_obj = SentimentIntensityAnalyzer()\n",
    " \n",
    "    # polarity_scores method of SentimentIntensityAnalyzer\n",
    "    # object gives a sentiment dictionary.\n",
    "    # which contains pos, neg, neu, and compound scores.\n",
    "    \n",
    "    sentiment_dict = sid_obj.polarity_scores(sentence) \n",
    "    scores_beta2.append(sentiment_dict['compound'])\n",
    "    mod_scores_beta2.append(abs(sentiment_dict['compound']))\n",
    "    \n",
    "    # decide sentiment as positive, negative and neutral\n",
    "    if sentiment_dict['compound'] > 0 :\n",
    "        labels_beta2.append(1)\n",
    "    else:\n",
    "        labels_beta2.append(0)\n",
    "        \n",
    "        \n",
    "for s in sentences_beta2:\n",
    "    sentiment_scores(s) \n",
    "\n",
    "\n",
    "df_beta2 = pd.DataFrame({'sentences with beta negative': sentences_beta2, 'labels': labels_beta2, 'vader_scores': scores_beta2, 'mod_vader_scores': mod_scores_beta2})\n",
    "display(df_beta2.head(5))\n",
    "\n",
    "df_beta2.to_csv('df_beta2', index=False)\n",
    "\n",
    "df_beta2 = pd.read_csv('df_beta2')\n",
    "mod_scores_beta2 = df_beta2.mod_vader_scores\n",
    "\n",
    "avg_vader_score_beta2 = sum(mod_scores_beta2) / len(mod_scores_beta2)\n",
    "print(avg_vader_score_beta2)"
   ]
  },
  {
   "cell_type": "markdown",
   "id": "65730de3",
   "metadata": {},
   "source": [
    "# 5 positive generated samples"
   ]
  },
  {
   "cell_type": "code",
   "execution_count": 175,
   "id": "cc56c88b",
   "metadata": {},
   "outputs": [
    {
     "data": {
      "text/html": [
       "<div>\n",
       "<style scoped>\n",
       "    .dataframe tbody tr th:only-of-type {\n",
       "        vertical-align: middle;\n",
       "    }\n",
       "\n",
       "    .dataframe tbody tr th {\n",
       "        vertical-align: top;\n",
       "    }\n",
       "\n",
       "    .dataframe thead th {\n",
       "        text-align: right;\n",
       "    }\n",
       "</style>\n",
       "<table border=\"1\" class=\"dataframe\">\n",
       "  <thead>\n",
       "    <tr style=\"text-align: right;\">\n",
       "      <th></th>\n",
       "      <th>sentences with beta</th>\n",
       "      <th>labels</th>\n",
       "      <th>vader_scores</th>\n",
       "      <th>mod_vader_scores</th>\n",
       "    </tr>\n",
       "  </thead>\n",
       "  <tbody>\n",
       "    <tr>\n",
       "      <th>88</th>\n",
       "      <td>&lt;s&gt; schoooool espana nikkithebee splendid bobo...</td>\n",
       "      <td>1</td>\n",
       "      <td>0.9349</td>\n",
       "      <td>0.9349</td>\n",
       "    </tr>\n",
       "    <tr>\n",
       "      <th>380</th>\n",
       "      <td>&lt;s&gt; rickyambury hon jackawful menu19 modes eri...</td>\n",
       "      <td>1</td>\n",
       "      <td>0.9201</td>\n",
       "      <td>0.9201</td>\n",
       "    </tr>\n",
       "    <tr>\n",
       "      <th>62</th>\n",
       "      <td>&lt;s&gt; well amuse amazingphil moreover light bedr...</td>\n",
       "      <td>1</td>\n",
       "      <td>0.8834</td>\n",
       "      <td>0.8834</td>\n",
       "    </tr>\n",
       "    <tr>\n",
       "      <th>467</th>\n",
       "      <td>&lt;s&gt; boyle markrosenbauer handle calibre muddle...</td>\n",
       "      <td>1</td>\n",
       "      <td>0.8807</td>\n",
       "      <td>0.8807</td>\n",
       "    </tr>\n",
       "    <tr>\n",
       "      <th>484</th>\n",
       "      <td>&lt;s&gt; welshdrew award doc kk bid braintree rende...</td>\n",
       "      <td>1</td>\n",
       "      <td>0.8519</td>\n",
       "      <td>0.8519</td>\n",
       "    </tr>\n",
       "  </tbody>\n",
       "</table>\n",
       "</div>"
      ],
      "text/plain": [
       "                                   sentences with beta  labels  vader_scores  \\\n",
       "88   <s> schoooool espana nikkithebee splendid bobo...       1        0.9349   \n",
       "380  <s> rickyambury hon jackawful menu19 modes eri...       1        0.9201   \n",
       "62   <s> well amuse amazingphil moreover light bedr...       1        0.8834   \n",
       "467  <s> boyle markrosenbauer handle calibre muddle...       1        0.8807   \n",
       "484  <s> welshdrew award doc kk bid braintree rende...       1        0.8519   \n",
       "\n",
       "     mod_vader_scores  \n",
       "88             0.9349  \n",
       "380            0.9201  \n",
       "62             0.8834  \n",
       "467            0.8807  \n",
       "484            0.8519  "
      ]
     },
     "metadata": {},
     "output_type": "display_data"
    },
    {
     "data": {
      "text/plain": [
       "(250, 4)"
      ]
     },
     "execution_count": 175,
     "metadata": {},
     "output_type": "execute_result"
    }
   ],
   "source": [
    "df_beta1 = pd.read_csv('df_beta1')\n",
    "df_beta1.drop(['Unnamed: 0'], axis=1, inplace=True)\n",
    "df_beta1 = df_beta1.sort_values('vader_scores', ascending=False)\n",
    "df_beta1.rename(columns={'sentences with beta positive': 'sentences with beta'}, inplace=True)\n",
    "display(df_beta1.head())\n",
    "df_beta_pos_250 = df_beta1.iloc[:250, :]\n",
    "df_beta_pos_250.shape"
   ]
  },
  {
   "cell_type": "markdown",
   "id": "7d1aa944",
   "metadata": {},
   "source": [
    "# 5 negative generated samples"
   ]
  },
  {
   "cell_type": "code",
   "execution_count": 176,
   "id": "ab1fac40",
   "metadata": {},
   "outputs": [
    {
     "data": {
      "text/html": [
       "<div>\n",
       "<style scoped>\n",
       "    .dataframe tbody tr th:only-of-type {\n",
       "        vertical-align: middle;\n",
       "    }\n",
       "\n",
       "    .dataframe tbody tr th {\n",
       "        vertical-align: top;\n",
       "    }\n",
       "\n",
       "    .dataframe thead th {\n",
       "        text-align: right;\n",
       "    }\n",
       "</style>\n",
       "<table border=\"1\" class=\"dataframe\">\n",
       "  <thead>\n",
       "    <tr style=\"text-align: right;\">\n",
       "      <th></th>\n",
       "      <th>sentences with beta</th>\n",
       "      <th>labels</th>\n",
       "      <th>vader_scores</th>\n",
       "      <th>mod_vader_scores</th>\n",
       "    </tr>\n",
       "  </thead>\n",
       "  <tbody>\n",
       "    <tr>\n",
       "      <th>54</th>\n",
       "      <td>&lt;s&gt; cut plane student hatchet raaaaaaek nasty ...</td>\n",
       "      <td>0</td>\n",
       "      <td>-0.9186</td>\n",
       "      <td>0.9186</td>\n",
       "    </tr>\n",
       "    <tr>\n",
       "      <th>478</th>\n",
       "      <td>&lt;s&gt; kporcalla dead blackberry funky grp episod...</td>\n",
       "      <td>0</td>\n",
       "      <td>-0.9100</td>\n",
       "      <td>0.9100</td>\n",
       "    </tr>\n",
       "    <tr>\n",
       "      <th>269</th>\n",
       "      <td>&lt;s&gt; damn terror treypeezy sit milk lightfoot 2...</td>\n",
       "      <td>0</td>\n",
       "      <td>-0.9042</td>\n",
       "      <td>0.9042</td>\n",
       "    </tr>\n",
       "    <tr>\n",
       "      <th>27</th>\n",
       "      <td>&lt;s&gt; oh paperwork wb allabtanimation heeeyshelb...</td>\n",
       "      <td>0</td>\n",
       "      <td>-0.9001</td>\n",
       "      <td>0.9001</td>\n",
       "    </tr>\n",
       "    <tr>\n",
       "      <th>367</th>\n",
       "      <td>&lt;s&gt; evil curry windy6 rebecca372 overweight ha...</td>\n",
       "      <td>0</td>\n",
       "      <td>-0.8885</td>\n",
       "      <td>0.8885</td>\n",
       "    </tr>\n",
       "  </tbody>\n",
       "</table>\n",
       "</div>"
      ],
      "text/plain": [
       "                                   sentences with beta  labels  vader_scores  \\\n",
       "54   <s> cut plane student hatchet raaaaaaek nasty ...       0       -0.9186   \n",
       "478  <s> kporcalla dead blackberry funky grp episod...       0       -0.9100   \n",
       "269  <s> damn terror treypeezy sit milk lightfoot 2...       0       -0.9042   \n",
       "27   <s> oh paperwork wb allabtanimation heeeyshelb...       0       -0.9001   \n",
       "367  <s> evil curry windy6 rebecca372 overweight ha...       0       -0.8885   \n",
       "\n",
       "     mod_vader_scores  \n",
       "54             0.9186  \n",
       "478            0.9100  \n",
       "269            0.9042  \n",
       "27             0.9001  \n",
       "367            0.8885  "
      ]
     },
     "metadata": {},
     "output_type": "display_data"
    },
    {
     "data": {
      "text/plain": [
       "(250, 4)"
      ]
     },
     "execution_count": 176,
     "metadata": {},
     "output_type": "execute_result"
    }
   ],
   "source": [
    "df_beta2 = pd.read_csv('df_beta2')\n",
    "df_beta2 = df_beta2.sort_values('vader_scores')\n",
    "df_beta2.rename(columns={'sentences with beta negative': 'sentences with beta'}, inplace=True)\n",
    "display(df_beta2.head())\n",
    "df_beta_neg_250 = df_beta2.iloc[:250, :]\n",
    "df_beta_neg_250.shape"
   ]
  },
  {
   "cell_type": "markdown",
   "id": "69a06617",
   "metadata": {},
   "source": [
    "## generate 500 sentiment oriented sentences using beta included smoothed probabilities"
   ]
  },
  {
   "cell_type": "code",
   "execution_count": 177,
   "id": "6e08ff59",
   "metadata": {},
   "outputs": [
    {
     "data": {
      "text/html": [
       "<div>\n",
       "<style scoped>\n",
       "    .dataframe tbody tr th:only-of-type {\n",
       "        vertical-align: middle;\n",
       "    }\n",
       "\n",
       "    .dataframe tbody tr th {\n",
       "        vertical-align: top;\n",
       "    }\n",
       "\n",
       "    .dataframe thead th {\n",
       "        text-align: right;\n",
       "    }\n",
       "</style>\n",
       "<table border=\"1\" class=\"dataframe\">\n",
       "  <thead>\n",
       "    <tr style=\"text-align: right;\">\n",
       "      <th></th>\n",
       "      <th>sentences with beta</th>\n",
       "      <th>labels</th>\n",
       "      <th>vader_scores</th>\n",
       "      <th>mod_vader_scores</th>\n",
       "    </tr>\n",
       "  </thead>\n",
       "  <tbody>\n",
       "    <tr>\n",
       "      <th>88</th>\n",
       "      <td>&lt;s&gt; schoooool espana nikkithebee splendid bobo...</td>\n",
       "      <td>1</td>\n",
       "      <td>0.9349</td>\n",
       "      <td>0.9349</td>\n",
       "    </tr>\n",
       "    <tr>\n",
       "      <th>380</th>\n",
       "      <td>&lt;s&gt; rickyambury hon jackawful menu19 modes eri...</td>\n",
       "      <td>1</td>\n",
       "      <td>0.9201</td>\n",
       "      <td>0.9201</td>\n",
       "    </tr>\n",
       "    <tr>\n",
       "      <th>62</th>\n",
       "      <td>&lt;s&gt; well amuse amazingphil moreover light bedr...</td>\n",
       "      <td>1</td>\n",
       "      <td>0.8834</td>\n",
       "      <td>0.8834</td>\n",
       "    </tr>\n",
       "    <tr>\n",
       "      <th>467</th>\n",
       "      <td>&lt;s&gt; boyle markrosenbauer handle calibre muddle...</td>\n",
       "      <td>1</td>\n",
       "      <td>0.8807</td>\n",
       "      <td>0.8807</td>\n",
       "    </tr>\n",
       "    <tr>\n",
       "      <th>484</th>\n",
       "      <td>&lt;s&gt; welshdrew award doc kk bid braintree rende...</td>\n",
       "      <td>1</td>\n",
       "      <td>0.8519</td>\n",
       "      <td>0.8519</td>\n",
       "    </tr>\n",
       "  </tbody>\n",
       "</table>\n",
       "</div>"
      ],
      "text/plain": [
       "                                   sentences with beta  labels  vader_scores  \\\n",
       "88   <s> schoooool espana nikkithebee splendid bobo...       1        0.9349   \n",
       "380  <s> rickyambury hon jackawful menu19 modes eri...       1        0.9201   \n",
       "62   <s> well amuse amazingphil moreover light bedr...       1        0.8834   \n",
       "467  <s> boyle markrosenbauer handle calibre muddle...       1        0.8807   \n",
       "484  <s> welshdrew award doc kk bid braintree rende...       1        0.8519   \n",
       "\n",
       "     mod_vader_scores  \n",
       "88             0.9349  \n",
       "380            0.9201  \n",
       "62             0.8834  \n",
       "467            0.8807  \n",
       "484            0.8519  "
      ]
     },
     "execution_count": 177,
     "metadata": {},
     "output_type": "execute_result"
    }
   ],
   "source": [
    "df_beta = pd.concat([df_beta_pos_250, df_beta_neg_250])\n",
    "df_beta.head()"
   ]
  },
  {
   "cell_type": "code",
   "execution_count": 189,
   "id": "78279083",
   "metadata": {},
   "outputs": [
    {
     "data": {
      "text/html": [
       "<div>\n",
       "<style scoped>\n",
       "    .dataframe tbody tr th:only-of-type {\n",
       "        vertical-align: middle;\n",
       "    }\n",
       "\n",
       "    .dataframe tbody tr th {\n",
       "        vertical-align: top;\n",
       "    }\n",
       "\n",
       "    .dataframe thead th {\n",
       "        text-align: right;\n",
       "    }\n",
       "</style>\n",
       "<table border=\"1\" class=\"dataframe\">\n",
       "  <thead>\n",
       "    <tr style=\"text-align: right;\">\n",
       "      <th></th>\n",
       "      <th>sentences with beta</th>\n",
       "      <th>labels</th>\n",
       "      <th>vader_scores</th>\n",
       "      <th>mod_vader_scores</th>\n",
       "    </tr>\n",
       "  </thead>\n",
       "  <tbody>\n",
       "    <tr>\n",
       "      <th>88</th>\n",
       "      <td>&lt;s&gt; schoooool espana nikkithebee splendid bobo...</td>\n",
       "      <td>1</td>\n",
       "      <td>0.9349</td>\n",
       "      <td>0.9349</td>\n",
       "    </tr>\n",
       "    <tr>\n",
       "      <th>380</th>\n",
       "      <td>&lt;s&gt; rickyambury hon jackawful menu19 modes eri...</td>\n",
       "      <td>1</td>\n",
       "      <td>0.9201</td>\n",
       "      <td>0.9201</td>\n",
       "    </tr>\n",
       "    <tr>\n",
       "      <th>62</th>\n",
       "      <td>&lt;s&gt; well amuse amazingphil moreover light bedr...</td>\n",
       "      <td>1</td>\n",
       "      <td>0.8834</td>\n",
       "      <td>0.8834</td>\n",
       "    </tr>\n",
       "    <tr>\n",
       "      <th>467</th>\n",
       "      <td>&lt;s&gt; boyle markrosenbauer handle calibre muddle...</td>\n",
       "      <td>1</td>\n",
       "      <td>0.8807</td>\n",
       "      <td>0.8807</td>\n",
       "    </tr>\n",
       "    <tr>\n",
       "      <th>484</th>\n",
       "      <td>&lt;s&gt; welshdrew award doc kk bid braintree rende...</td>\n",
       "      <td>1</td>\n",
       "      <td>0.8519</td>\n",
       "      <td>0.8519</td>\n",
       "    </tr>\n",
       "    <tr>\n",
       "      <th>...</th>\n",
       "      <td>...</td>\n",
       "      <td>...</td>\n",
       "      <td>...</td>\n",
       "      <td>...</td>\n",
       "    </tr>\n",
       "    <tr>\n",
       "      <th>458</th>\n",
       "      <td>&lt;s&gt; mizushima mwahahaha shore herreee angelo v...</td>\n",
       "      <td>0</td>\n",
       "      <td>-0.4019</td>\n",
       "      <td>0.4019</td>\n",
       "    </tr>\n",
       "    <tr>\n",
       "      <th>241</th>\n",
       "      <td>&lt;s&gt; everyone n asia travelpilot game138 choice...</td>\n",
       "      <td>0</td>\n",
       "      <td>-0.4019</td>\n",
       "      <td>0.4019</td>\n",
       "    </tr>\n",
       "    <tr>\n",
       "      <th>379</th>\n",
       "      <td>&lt;s&gt; staceybug damn judo suggest soulpoetrysite...</td>\n",
       "      <td>0</td>\n",
       "      <td>-0.4019</td>\n",
       "      <td>0.4019</td>\n",
       "    </tr>\n",
       "    <tr>\n",
       "      <th>215</th>\n",
       "      <td>&lt;s&gt; stream eddidit moiswashere sha museum mini...</td>\n",
       "      <td>0</td>\n",
       "      <td>-0.4019</td>\n",
       "      <td>0.4019</td>\n",
       "    </tr>\n",
       "    <tr>\n",
       "      <th>69</th>\n",
       "      <td>&lt;s&gt; ca quit error ery ky hardcore allies0r for...</td>\n",
       "      <td>0</td>\n",
       "      <td>-0.4019</td>\n",
       "      <td>0.4019</td>\n",
       "    </tr>\n",
       "  </tbody>\n",
       "</table>\n",
       "<p>360 rows × 4 columns</p>\n",
       "</div>"
      ],
      "text/plain": [
       "                                   sentences with beta  labels  vader_scores  \\\n",
       "88   <s> schoooool espana nikkithebee splendid bobo...       1        0.9349   \n",
       "380  <s> rickyambury hon jackawful menu19 modes eri...       1        0.9201   \n",
       "62   <s> well amuse amazingphil moreover light bedr...       1        0.8834   \n",
       "467  <s> boyle markrosenbauer handle calibre muddle...       1        0.8807   \n",
       "484  <s> welshdrew award doc kk bid braintree rende...       1        0.8519   \n",
       "..                                                 ...     ...           ...   \n",
       "458  <s> mizushima mwahahaha shore herreee angelo v...       0       -0.4019   \n",
       "241  <s> everyone n asia travelpilot game138 choice...       0       -0.4019   \n",
       "379  <s> staceybug damn judo suggest soulpoetrysite...       0       -0.4019   \n",
       "215  <s> stream eddidit moiswashere sha museum mini...       0       -0.4019   \n",
       "69   <s> ca quit error ery ky hardcore allies0r for...       0       -0.4019   \n",
       "\n",
       "     mod_vader_scores  \n",
       "88             0.9349  \n",
       "380            0.9201  \n",
       "62             0.8834  \n",
       "467            0.8807  \n",
       "484            0.8519  \n",
       "..                ...  \n",
       "458            0.4019  \n",
       "241            0.4019  \n",
       "379            0.4019  \n",
       "215            0.4019  \n",
       "69             0.4019  \n",
       "\n",
       "[360 rows x 4 columns]"
      ]
     },
     "execution_count": 189,
     "metadata": {},
     "output_type": "execute_result"
    }
   ],
   "source": [
    "df_beta.head(360)"
   ]
  },
  {
   "cell_type": "code",
   "execution_count": 202,
   "id": "ee26cb21",
   "metadata": {},
   "outputs": [
    {
     "name": "stdout",
     "output_type": "stream",
     "text": [
      "0.3939313999999999\n"
     ]
    }
   ],
   "source": [
    "mod_vader_scores = df_beta.mod_vader_scores\n",
    "avg_vader_score_beta = sum(mod_vader_scores) / len(mod_vader_scores)\n",
    "print(avg_vader_score_beta)\n",
    "# print(avg_vader_score_no_beta)"
   ]
  },
  {
   "cell_type": "code",
   "execution_count": 203,
   "id": "4c3a07de",
   "metadata": {},
   "outputs": [
    {
     "data": {
      "text/html": [
       "<div>\n",
       "<style scoped>\n",
       "    .dataframe tbody tr th:only-of-type {\n",
       "        vertical-align: middle;\n",
       "    }\n",
       "\n",
       "    .dataframe tbody tr th {\n",
       "        vertical-align: top;\n",
       "    }\n",
       "\n",
       "    .dataframe thead th {\n",
       "        text-align: right;\n",
       "    }\n",
       "</style>\n",
       "<table border=\"1\" class=\"dataframe\">\n",
       "  <thead>\n",
       "    <tr style=\"text-align: right;\">\n",
       "      <th></th>\n",
       "      <th>LABEL</th>\n",
       "      <th>sentences</th>\n",
       "    </tr>\n",
       "  </thead>\n",
       "  <tbody>\n",
       "    <tr>\n",
       "      <th>0</th>\n",
       "      <td>0</td>\n",
       "      <td>&lt;s&gt; get thread scar &lt;/s&gt;</td>\n",
       "    </tr>\n",
       "    <tr>\n",
       "      <th>1</th>\n",
       "      <td>1</td>\n",
       "      <td>&lt;s&gt; awaisnaseer like sedan mango one yesterday...</td>\n",
       "    </tr>\n",
       "    <tr>\n",
       "      <th>2</th>\n",
       "      <td>1</td>\n",
       "      <td>&lt;s&gt; work car work show go bed sooooooooooo tir...</td>\n",
       "    </tr>\n",
       "    <tr>\n",
       "      <th>3</th>\n",
       "      <td>1</td>\n",
       "      <td>&lt;s&gt; drama actually start afternoon try somethi...</td>\n",
       "    </tr>\n",
       "    <tr>\n",
       "      <th>4</th>\n",
       "      <td>1</td>\n",
       "      <td>&lt;s&gt; falcon601 www vote col love much &lt;/s&gt;</td>\n",
       "    </tr>\n",
       "  </tbody>\n",
       "</table>\n",
       "</div>"
      ],
      "text/plain": [
       "   LABEL                                          sentences\n",
       "0      0                           <s> get thread scar </s>\n",
       "1      1  <s> awaisnaseer like sedan mango one yesterday...\n",
       "2      1  <s> work car work show go bed sooooooooooo tir...\n",
       "3      1  <s> drama actually start afternoon try somethi...\n",
       "4      1          <s> falcon601 www vote col love much </s>"
      ]
     },
     "execution_count": 203,
     "metadata": {},
     "output_type": "execute_result"
    }
   ],
   "source": [
    "data.head()"
   ]
  },
  {
   "cell_type": "code",
   "execution_count": 204,
   "id": "abb7e2c0",
   "metadata": {},
   "outputs": [
    {
     "data": {
      "text/html": [
       "<div>\n",
       "<style scoped>\n",
       "    .dataframe tbody tr th:only-of-type {\n",
       "        vertical-align: middle;\n",
       "    }\n",
       "\n",
       "    .dataframe tbody tr th {\n",
       "        vertical-align: top;\n",
       "    }\n",
       "\n",
       "    .dataframe thead th {\n",
       "        text-align: right;\n",
       "    }\n",
       "</style>\n",
       "<table border=\"1\" class=\"dataframe\">\n",
       "  <thead>\n",
       "    <tr style=\"text-align: right;\">\n",
       "      <th></th>\n",
       "      <th>LABEL</th>\n",
       "      <th>sentences</th>\n",
       "    </tr>\n",
       "  </thead>\n",
       "  <tbody>\n",
       "    <tr>\n",
       "      <th>0</th>\n",
       "      <td>0</td>\n",
       "      <td>&lt;s&gt; get thread scar &lt;/s&gt;</td>\n",
       "    </tr>\n",
       "    <tr>\n",
       "      <th>1</th>\n",
       "      <td>1</td>\n",
       "      <td>&lt;s&gt; awaisnaseer like sedan mango one yesterday...</td>\n",
       "    </tr>\n",
       "    <tr>\n",
       "      <th>2</th>\n",
       "      <td>1</td>\n",
       "      <td>&lt;s&gt; work car work show go bed sooooooooooo tir...</td>\n",
       "    </tr>\n",
       "    <tr>\n",
       "      <th>3</th>\n",
       "      <td>1</td>\n",
       "      <td>&lt;s&gt; drama actually start afternoon try somethi...</td>\n",
       "    </tr>\n",
       "    <tr>\n",
       "      <th>4</th>\n",
       "      <td>1</td>\n",
       "      <td>&lt;s&gt; falcon601 www vote col love much &lt;/s&gt;</td>\n",
       "    </tr>\n",
       "  </tbody>\n",
       "</table>\n",
       "</div>"
      ],
      "text/plain": [
       "   LABEL                                          sentences\n",
       "0      0                           <s> get thread scar </s>\n",
       "1      1  <s> awaisnaseer like sedan mango one yesterday...\n",
       "2      1  <s> work car work show go bed sooooooooooo tir...\n",
       "3      1  <s> drama actually start afternoon try somethi...\n",
       "4      1          <s> falcon601 www vote col love much </s>"
      ]
     },
     "execution_count": 204,
     "metadata": {},
     "output_type": "execute_result"
    }
   ],
   "source": [
    "data.head()\n",
    "# data.drop(['DATE_TIME'], axis=1, inplace=True)\n",
    "data.rename(columns={'preprocessed_txt': 'sentences'}, inplace=True)\n",
    "data.head()"
   ]
  },
  {
   "cell_type": "markdown",
   "id": "1c297496",
   "metadata": {},
   "source": [
    "## temp- 500 sentiment oriented sentences with their labels"
   ]
  },
  {
   "cell_type": "code",
   "execution_count": 205,
   "id": "7127538b",
   "metadata": {},
   "outputs": [
    {
     "data": {
      "text/html": [
       "<div>\n",
       "<style scoped>\n",
       "    .dataframe tbody tr th:only-of-type {\n",
       "        vertical-align: middle;\n",
       "    }\n",
       "\n",
       "    .dataframe tbody tr th {\n",
       "        vertical-align: top;\n",
       "    }\n",
       "\n",
       "    .dataframe thead th {\n",
       "        text-align: right;\n",
       "    }\n",
       "</style>\n",
       "<table border=\"1\" class=\"dataframe\">\n",
       "  <thead>\n",
       "    <tr style=\"text-align: right;\">\n",
       "      <th></th>\n",
       "      <th>sentences</th>\n",
       "      <th>LABEL</th>\n",
       "    </tr>\n",
       "  </thead>\n",
       "  <tbody>\n",
       "    <tr>\n",
       "      <th>88</th>\n",
       "      <td>&lt;s&gt; schoooool espana nikkithebee splendid bobo...</td>\n",
       "      <td>1</td>\n",
       "    </tr>\n",
       "    <tr>\n",
       "      <th>380</th>\n",
       "      <td>&lt;s&gt; rickyambury hon jackawful menu19 modes eri...</td>\n",
       "      <td>1</td>\n",
       "    </tr>\n",
       "    <tr>\n",
       "      <th>62</th>\n",
       "      <td>&lt;s&gt; well amuse amazingphil moreover light bedr...</td>\n",
       "      <td>1</td>\n",
       "    </tr>\n",
       "    <tr>\n",
       "      <th>467</th>\n",
       "      <td>&lt;s&gt; boyle markrosenbauer handle calibre muddle...</td>\n",
       "      <td>1</td>\n",
       "    </tr>\n",
       "    <tr>\n",
       "      <th>484</th>\n",
       "      <td>&lt;s&gt; welshdrew award doc kk bid braintree rende...</td>\n",
       "      <td>1</td>\n",
       "    </tr>\n",
       "  </tbody>\n",
       "</table>\n",
       "</div>"
      ],
      "text/plain": [
       "                                             sentences  LABEL\n",
       "88   <s> schoooool espana nikkithebee splendid bobo...      1\n",
       "380  <s> rickyambury hon jackawful menu19 modes eri...      1\n",
       "62   <s> well amuse amazingphil moreover light bedr...      1\n",
       "467  <s> boyle markrosenbauer handle calibre muddle...      1\n",
       "484  <s> welshdrew award doc kk bid braintree rende...      1"
      ]
     },
     "execution_count": 205,
     "metadata": {},
     "output_type": "execute_result"
    }
   ],
   "source": [
    "df_beta.head()\n",
    "temp = df_beta.iloc[:, :2].copy()\n",
    "temp.rename(columns={'labels': 'LABEL', 'sentences with beta': 'sentences'}, inplace=True)\n",
    "temp.head()\n"
   ]
  },
  {
   "cell_type": "code",
   "execution_count": 206,
   "id": "cb85884d",
   "metadata": {},
   "outputs": [
    {
     "name": "stdout",
     "output_type": "stream",
     "text": [
      "(4287, 2)\n",
      "(4787, 2)\n"
     ]
    }
   ],
   "source": [
    "dataset_B = data.append(temp)\n",
    "print(data.shape)\n",
    "print(dataset_B.shape)"
   ]
  },
  {
   "cell_type": "code",
   "execution_count": 207,
   "id": "a5c1db30",
   "metadata": {},
   "outputs": [
    {
     "data": {
      "text/plain": [
       "10    <s> minecraft ride sarah still afraid ride any...\n",
       "10    <s> ataxia special spring ajanay7 agingbackwar...\n",
       "10    <s> modem amendment spanish jesse 1classediva ...\n",
       "Name: sentences, dtype: object"
      ]
     },
     "execution_count": 207,
     "metadata": {},
     "output_type": "execute_result"
    }
   ],
   "source": [
    "dataset_B.sentences[10]"
   ]
  },
  {
   "cell_type": "code",
   "execution_count": 208,
   "id": "e921f868",
   "metadata": {},
   "outputs": [],
   "source": [
    "dataset_B.to_csv('dataset_B.csv', index=False)"
   ]
  },
  {
   "cell_type": "markdown",
   "id": "11c7d56a",
   "metadata": {},
   "source": [
    "## Perplexity evalutation"
   ]
  },
  {
   "cell_type": "code",
   "execution_count": 209,
   "id": "6a98d21e",
   "metadata": {},
   "outputs": [],
   "source": [
    "import math\n",
    "\n",
    "\n",
    "def perpleixty_positive(sentence):\n",
    "    words = sentence.split()\n",
    "    n = len(words)\n",
    "    result = 0\n",
    "    \n",
    "    for k in range(n-1):\n",
    "        if k == 0:\n",
    "            result += math.log(unigram_count1[words[k]] / len(vocab))\n",
    "        else:\n",
    "            w1 = words[k]\n",
    "            w2 = words[k+1]\n",
    "            result += math.log(p_bigrams_beta1[(w1, w2)])\n",
    "\n",
    "    result = result * (-1 / n)\n",
    "    result = math.exp(result)\n",
    "    return result\n",
    "\n",
    "\n",
    "def perpleixty_negative(sentence):\n",
    "    words = sentence.split()\n",
    "    n = len(words)\n",
    "    result = 0\n",
    "    \n",
    "    for k in range(n-1):\n",
    "        if k == 0:\n",
    "            result += math.log(unigram_count2[words[k]] / len(vocab))\n",
    "        else:\n",
    "            w1 = words[k]\n",
    "            w2 = words[k+1]\n",
    "            result += math.log(p_bigrams_beta2[(w1, w2)])\n",
    "\n",
    "    result = result * (-1 / n)\n",
    "    result = math.exp(result)\n",
    "    return result"
   ]
  },
  {
   "cell_type": "markdown",
   "id": "905055aa",
   "metadata": {},
   "source": [
    "## perplexity of positive sentiment generated sentences"
   ]
  },
  {
   "cell_type": "code",
   "execution_count": 200,
   "id": "3720bcd5",
   "metadata": {},
   "outputs": [
    {
     "name": "stdout",
     "output_type": "stream",
     "text": [
      "postive perplexity score is : 3382.3087853833845\n"
     ]
    }
   ],
   "source": [
    "with open('p_bigrams_beta1.pickle', 'rb') as handle:\n",
    "    p_bigrams_beta1 = pickle.load(handle)\n",
    "    \n",
    "df_beta1 = df_beta1.sort_values('mod_vader_scores', ascending=False)\n",
    "postive_perplexity_score  = df_beta1['sentences with beta'][:250].apply(perpleixty_positive).mean()\n",
    "print(\"postive perplexity score is :\", postive_perplexity_score)\n",
    "\n",
    "del p_bigrams_beta1"
   ]
  },
  {
   "cell_type": "markdown",
   "id": "c785d77b",
   "metadata": {},
   "source": [
    "## perplexity of negative sentiment generated sentences"
   ]
  },
  {
   "cell_type": "code",
   "execution_count": 201,
   "id": "770cd860",
   "metadata": {},
   "outputs": [
    {
     "name": "stdout",
     "output_type": "stream",
     "text": [
      "negative perplexity score is : 3402.3628079430305\n"
     ]
    }
   ],
   "source": [
    "with open('p_bigrams_beta2.pickle', 'rb') as handle:\n",
    "    p_bigrams_beta2 = pickle.load(handle)\n",
    "    \n",
    "df_beta2 = df_beta2.sort_values('mod_vader_scores', ascending=False)\n",
    "negative_perplexity_score  = df_beta2['sentences with beta'][:250].apply(perpleixty_negative).mean()\n",
    "print(\"negative perplexity score is :\", negative_perplexity_score)\n",
    "\n",
    "del p_bigrams_beta2"
   ]
  },
  {
   "cell_type": "markdown",
   "id": "cab284e0",
   "metadata": {},
   "source": [
    "## average perplexity of 500 sentiment oriented sentences"
   ]
  },
  {
   "cell_type": "code",
   "execution_count": 63,
   "id": "38888c1e",
   "metadata": {},
   "outputs": [
    {
     "name": "stdout",
     "output_type": "stream",
     "text": [
      "average perplexity score of 500 generated sentences :  3391.67\n"
     ]
    }
   ],
   "source": [
    "ans = round((postive_perplexity_score + negative_perplexity_score) / 2, 2)\n",
    "print(\"average perplexity score of 500 generated sentences : \", ans)"
   ]
  },
  {
   "cell_type": "markdown",
   "id": "f9521dd8",
   "metadata": {},
   "source": [
    "## Extrinsic evaluation"
   ]
  },
  {
   "cell_type": "code",
   "execution_count": 10,
   "id": "78f8a7eb",
   "metadata": {},
   "outputs": [],
   "source": [
    "test_data = preprocess(pd.read_csv('test.csv'))"
   ]
  },
  {
   "cell_type": "code",
   "execution_count": 211,
   "id": "4432fa4a",
   "metadata": {},
   "outputs": [],
   "source": [
    "test_data.to_csv('preprocessed_test_data.csv', index=False)"
   ]
  },
  {
   "cell_type": "code",
   "execution_count": 212,
   "id": "a654747a",
   "metadata": {
    "scrolled": true
   },
   "outputs": [
    {
     "data": {
      "text/plain": [
       "(644, 3)"
      ]
     },
     "execution_count": 212,
     "metadata": {},
     "output_type": "execute_result"
    }
   ],
   "source": [
    "test_data = pd.read_csv('preprocessed_test_data.csv')\n",
    "test_data.shape"
   ]
  },
  {
   "cell_type": "code",
   "execution_count": 213,
   "id": "c20fa71c",
   "metadata": {},
   "outputs": [
    {
     "data": {
      "text/html": [
       "<div>\n",
       "<style scoped>\n",
       "    .dataframe tbody tr th:only-of-type {\n",
       "        vertical-align: middle;\n",
       "    }\n",
       "\n",
       "    .dataframe tbody tr th {\n",
       "        vertical-align: top;\n",
       "    }\n",
       "\n",
       "    .dataframe thead th {\n",
       "        text-align: right;\n",
       "    }\n",
       "</style>\n",
       "<table border=\"1\" class=\"dataframe\">\n",
       "  <thead>\n",
       "    <tr style=\"text-align: right;\">\n",
       "      <th></th>\n",
       "      <th>LABEL</th>\n",
       "      <th>DATE_TIME</th>\n",
       "      <th>preprocessed_txt</th>\n",
       "    </tr>\n",
       "  </thead>\n",
       "  <tbody>\n",
       "    <tr>\n",
       "      <th>0</th>\n",
       "      <td>1</td>\n",
       "      <td>Fri May 29 22:24:26 2009</td>\n",
       "      <td>&lt;s&gt; mileycyrus cheer miley whats wrong &lt;/s&gt;</td>\n",
       "    </tr>\n",
       "    <tr>\n",
       "      <th>1</th>\n",
       "      <td>1</td>\n",
       "      <td>Sun Jun 07 01:37:36 2009</td>\n",
       "      <td>&lt;s&gt; get back belcourt saw quot fifth quot awes...</td>\n",
       "    </tr>\n",
       "    <tr>\n",
       "      <th>2</th>\n",
       "      <td>1</td>\n",
       "      <td>Wed May 13 23:41:18 2009</td>\n",
       "      <td>&lt;s&gt; http video &lt;/s&gt;</td>\n",
       "    </tr>\n",
       "    <tr>\n",
       "      <th>3</th>\n",
       "      <td>1</td>\n",
       "      <td>Sun May 31 16:43:58 2009</td>\n",
       "      <td>&lt;s&gt; chloebli hey carnavilistic day wood make w...</td>\n",
       "    </tr>\n",
       "    <tr>\n",
       "      <th>4</th>\n",
       "      <td>1</td>\n",
       "      <td>Fri May 29 10:36:59 2009</td>\n",
       "      <td>&lt;s&gt; deadlyseagal http nice day &lt;/s&gt;</td>\n",
       "    </tr>\n",
       "  </tbody>\n",
       "</table>\n",
       "</div>"
      ],
      "text/plain": [
       "   LABEL                 DATE_TIME  \\\n",
       "0      1  Fri May 29 22:24:26 2009   \n",
       "1      1  Sun Jun 07 01:37:36 2009   \n",
       "2      1  Wed May 13 23:41:18 2009   \n",
       "3      1  Sun May 31 16:43:58 2009   \n",
       "4      1  Fri May 29 10:36:59 2009   \n",
       "\n",
       "                                    preprocessed_txt  \n",
       "0        <s> mileycyrus cheer miley whats wrong </s>  \n",
       "1  <s> get back belcourt saw quot fifth quot awes...  \n",
       "2                                <s> http video </s>  \n",
       "3  <s> chloebli hey carnavilistic day wood make w...  \n",
       "4                <s> deadlyseagal http nice day </s>  "
      ]
     },
     "execution_count": 213,
     "metadata": {},
     "output_type": "execute_result"
    }
   ],
   "source": [
    "test_data.head()"
   ]
  },
  {
   "cell_type": "code",
   "execution_count": 214,
   "id": "9af9a9a0",
   "metadata": {},
   "outputs": [
    {
     "data": {
      "text/html": [
       "<div>\n",
       "<style scoped>\n",
       "    .dataframe tbody tr th:only-of-type {\n",
       "        vertical-align: middle;\n",
       "    }\n",
       "\n",
       "    .dataframe tbody tr th {\n",
       "        vertical-align: top;\n",
       "    }\n",
       "\n",
       "    .dataframe thead th {\n",
       "        text-align: right;\n",
       "    }\n",
       "</style>\n",
       "<table border=\"1\" class=\"dataframe\">\n",
       "  <thead>\n",
       "    <tr style=\"text-align: right;\">\n",
       "      <th></th>\n",
       "      <th>LABEL</th>\n",
       "      <th>sentences</th>\n",
       "    </tr>\n",
       "  </thead>\n",
       "  <tbody>\n",
       "    <tr>\n",
       "      <th>0</th>\n",
       "      <td>0</td>\n",
       "      <td>&lt;s&gt; get thread scar &lt;/s&gt;</td>\n",
       "    </tr>\n",
       "    <tr>\n",
       "      <th>1</th>\n",
       "      <td>1</td>\n",
       "      <td>&lt;s&gt; awaisnaseer like sedan mango one yesterday...</td>\n",
       "    </tr>\n",
       "    <tr>\n",
       "      <th>2</th>\n",
       "      <td>1</td>\n",
       "      <td>&lt;s&gt; work car work show go bed sooooooooooo tir...</td>\n",
       "    </tr>\n",
       "    <tr>\n",
       "      <th>3</th>\n",
       "      <td>1</td>\n",
       "      <td>&lt;s&gt; drama actually start afternoon try somethi...</td>\n",
       "    </tr>\n",
       "    <tr>\n",
       "      <th>4</th>\n",
       "      <td>1</td>\n",
       "      <td>&lt;s&gt; falcon601 www vote col love much &lt;/s&gt;</td>\n",
       "    </tr>\n",
       "  </tbody>\n",
       "</table>\n",
       "</div>"
      ],
      "text/plain": [
       "   LABEL                                          sentences\n",
       "0      0                           <s> get thread scar </s>\n",
       "1      1  <s> awaisnaseer like sedan mango one yesterday...\n",
       "2      1  <s> work car work show go bed sooooooooooo tir...\n",
       "3      1  <s> drama actually start afternoon try somethi...\n",
       "4      1          <s> falcon601 www vote col love much </s>"
      ]
     },
     "execution_count": 214,
     "metadata": {},
     "output_type": "execute_result"
    }
   ],
   "source": [
    "# dataset A\n",
    "data.head()"
   ]
  },
  {
   "cell_type": "code",
   "execution_count": 247,
   "id": "17cf53c8",
   "metadata": {},
   "outputs": [
    {
     "data": {
      "text/html": [
       "<div>\n",
       "<style scoped>\n",
       "    .dataframe tbody tr th:only-of-type {\n",
       "        vertical-align: middle;\n",
       "    }\n",
       "\n",
       "    .dataframe tbody tr th {\n",
       "        vertical-align: top;\n",
       "    }\n",
       "\n",
       "    .dataframe thead th {\n",
       "        text-align: right;\n",
       "    }\n",
       "</style>\n",
       "<table border=\"1\" class=\"dataframe\">\n",
       "  <thead>\n",
       "    <tr style=\"text-align: right;\">\n",
       "      <th></th>\n",
       "      <th>LABEL</th>\n",
       "      <th>sentences</th>\n",
       "    </tr>\n",
       "  </thead>\n",
       "  <tbody>\n",
       "    <tr>\n",
       "      <th>511</th>\n",
       "      <td>0</td>\n",
       "      <td>&lt;s&gt; try sleep night shift last one tonight man...</td>\n",
       "    </tr>\n",
       "    <tr>\n",
       "      <th>2869</th>\n",
       "      <td>0</td>\n",
       "      <td>&lt;s&gt; first start think twitter block account so...</td>\n",
       "    </tr>\n",
       "    <tr>\n",
       "      <th>4783</th>\n",
       "      <td>0</td>\n",
       "      <td>&lt;s&gt; work 2day recognize uhhhhh samsung usernam...</td>\n",
       "    </tr>\n",
       "    <tr>\n",
       "      <th>2524</th>\n",
       "      <td>1</td>\n",
       "      <td>&lt;s&gt; stefanieex0 didnt think would either lol &lt;/s&gt;</td>\n",
       "    </tr>\n",
       "    <tr>\n",
       "      <th>2935</th>\n",
       "      <td>0</td>\n",
       "      <td>&lt;s&gt; arch crazy way much school work 3 semester...</td>\n",
       "    </tr>\n",
       "    <tr>\n",
       "      <th>...</th>\n",
       "      <td>...</td>\n",
       "      <td>...</td>\n",
       "    </tr>\n",
       "    <tr>\n",
       "      <th>2042</th>\n",
       "      <td>0</td>\n",
       "      <td>&lt;s&gt; hate quot new improve quot software get ne...</td>\n",
       "    </tr>\n",
       "    <tr>\n",
       "      <th>4355</th>\n",
       "      <td>1</td>\n",
       "      <td>&lt;s&gt; june pee bak emotional india grand grid ka...</td>\n",
       "    </tr>\n",
       "    <tr>\n",
       "      <th>4067</th>\n",
       "      <td>0</td>\n",
       "      <td>&lt;s&gt; roland yet alone tonight &lt;/s&gt;</td>\n",
       "    </tr>\n",
       "    <tr>\n",
       "      <th>4661</th>\n",
       "      <td>0</td>\n",
       "      <td>&lt;s&gt; fearnecotton barn alcohol mixtape bed mimi...</td>\n",
       "    </tr>\n",
       "    <tr>\n",
       "      <th>2722</th>\n",
       "      <td>0</td>\n",
       "      <td>&lt;s&gt; study like crazy &lt;/s&gt;</td>\n",
       "    </tr>\n",
       "  </tbody>\n",
       "</table>\n",
       "<p>4787 rows × 2 columns</p>\n",
       "</div>"
      ],
      "text/plain": [
       "      LABEL                                          sentences\n",
       "511       0  <s> try sleep night shift last one tonight man...\n",
       "2869      0  <s> first start think twitter block account so...\n",
       "4783      0  <s> work 2day recognize uhhhhh samsung usernam...\n",
       "2524      1  <s> stefanieex0 didnt think would either lol </s>\n",
       "2935      0  <s> arch crazy way much school work 3 semester...\n",
       "...     ...                                                ...\n",
       "2042      0  <s> hate quot new improve quot software get ne...\n",
       "4355      1  <s> june pee bak emotional india grand grid ka...\n",
       "4067      0                  <s> roland yet alone tonight </s>\n",
       "4661      0  <s> fearnecotton barn alcohol mixtape bed mimi...\n",
       "2722      0                          <s> study like crazy </s>\n",
       "\n",
       "[4787 rows x 2 columns]"
      ]
     },
     "execution_count": 247,
     "metadata": {},
     "output_type": "execute_result"
    }
   ],
   "source": [
    "dataset_B = pd.read_csv('dataset_B.csv')\n",
    "dataset_B = dataset_B.sample(frac=1)\n",
    "dataset_B"
   ]
  },
  {
   "cell_type": "markdown",
   "id": "139dc28f",
   "metadata": {},
   "source": [
    "## ML models defn: gets trained and predict labels on test set"
   ]
  },
  {
   "cell_type": "code",
   "execution_count": 252,
   "id": "31cdbfed",
   "metadata": {},
   "outputs": [],
   "source": [
    "from sklearn.feature_extraction.text import TfidfVectorizer\n",
    "from sklearn.ensemble import RandomForestClassifier\n",
    "from sklearn.ensemble import GradientBoostingClassifier\n",
    "from sklearn.naive_bayes import MultinomialNB\n",
    "from sklearn.pipeline import make_pipeline\n",
    "from sklearn.metrics import accuracy_score\n",
    "\n",
    "\n",
    "def train_and_evaluate(train_sentences, train_labels, test_sentences, test_labels):\n",
    "    '''\n",
    "    parameters:\n",
    "    train_sentences : list of training sentences\n",
    "    train_labels : list of training labels\n",
    "    test_sentences : list of test sentences\n",
    "    test_labels : list of test labels\n",
    "    output:\n",
    "    accuracy : accuracy of the test set\n",
    "    '''\n",
    "    \n",
    "    # Model building\n",
    "    model = make_pipeline(TfidfVectorizer(), RandomForestClassifier(max_depth=21, random_state=333))\n",
    "    \n",
    "    # Training the model with the training data\n",
    "    model.fit(train_sentences, train_labels)\n",
    "    \n",
    "    # Predicting the test data categories\n",
    "    predicted_test_labels = model.predict(test_sentences)\n",
    "    return accuracy_score(test_labels, predicted_test_labels)"
   ]
  },
  {
   "cell_type": "markdown",
   "id": "ce9e913f",
   "metadata": {},
   "source": [
    "## Accuracy of test set using dataset A and B for training"
   ]
  },
  {
   "cell_type": "code",
   "execution_count": null,
   "id": "31562d13",
   "metadata": {},
   "outputs": [],
   "source": [
    "acc_A = train_and_evaluate(data.sentences.to_list(), data.LABEL.to_list(), \n",
    "                   test_data.preprocessed_txt.to_list(), test_data.LABEL.to_list())\n",
    "\n",
    "acc_B = train_and_evaluate(dataset_B.sentences.to_list(), dataset_B.LABEL.to_list(), \n",
    "\n",
    "\n",
    "                           test_data.preprocessed_txt.to_list(), test_data.LABEL.to_list())"
   ]
  },
  {
   "cell_type": "code",
   "execution_count": 253,
   "id": "6fbc8804",
   "metadata": {},
   "outputs": [
    {
     "name": "stdout",
     "output_type": "stream",
     "text": [
      "0.7857142857142857\n",
      "0.796583850931677\n"
     ]
    }
   ],
   "source": [
    "print(acc_A)\n",
    "print(acc_B)"
   ]
  },
  {
   "cell_type": "code",
   "execution_count": null,
   "id": "8425dbd3",
   "metadata": {},
   "outputs": [],
   "source": []
  }
 ],
 "metadata": {
  "kernelspec": {
   "display_name": "Python 3 (ipykernel)",
   "language": "python",
   "name": "python3"
  },
  "language_info": {
   "codemirror_mode": {
    "name": "ipython",
    "version": 3
   },
   "file_extension": ".py",
   "mimetype": "text/x-python",
   "name": "python",
   "nbconvert_exporter": "python",
   "pygments_lexer": "ipython3",
   "version": "3.8.10"
  }
 },
 "nbformat": 4,
 "nbformat_minor": 5
}
