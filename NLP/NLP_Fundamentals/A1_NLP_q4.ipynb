{
 "cells": [
  {
   "cell_type": "markdown",
   "metadata": {},
   "source": [
    "# IV. Rule-Based Sentiment Analysis"
   ]
  },
  {
   "cell_type": "code",
   "execution_count": 222,
   "metadata": {},
   "outputs": [],
   "source": [
    "import pandas as pd\n",
    "import numpy as np\n",
    "import matplotlib.pyplot as plt\n",
    "import re\n",
    "import nltk\n",
    "from nltk.tokenize import RegexpTokenizer\n",
    "from nltk.tokenize import word_tokenize\n",
    "from nltk import pos_tag\n",
    "from nltk.tokenize import sent_tokenize\n",
    "import string\n",
    "from nltk.stem.wordnet import WordNetLemmatizer\n",
    "from nltk.stem import PorterStemmer\n",
    "from nltk.metrics.distance  import edit_distance\n",
    "from nltk.corpus import words\n",
    "import os\n",
    "from nltk.corpus import stopwords\n",
    "from textblob import TextBlob\n",
    "from wordcloud import WordCloud\n",
    "from vaderSentiment.vaderSentiment import SentimentIntensityAnalyzer\n",
    "from autocorrect import Speller"
   ]
  },
  {
   "cell_type": "code",
   "execution_count": 223,
   "metadata": {},
   "outputs": [
    {
     "data": {
      "text/html": [
       "<div>\n",
       "<style scoped>\n",
       "    .dataframe tbody tr th:only-of-type {\n",
       "        vertical-align: middle;\n",
       "    }\n",
       "\n",
       "    .dataframe tbody tr th {\n",
       "        vertical-align: top;\n",
       "    }\n",
       "\n",
       "    .dataframe thead th {\n",
       "        text-align: right;\n",
       "    }\n",
       "</style>\n",
       "<table border=\"1\" class=\"dataframe\">\n",
       "  <thead>\n",
       "    <tr style=\"text-align: right;\">\n",
       "      <th></th>\n",
       "      <th>LABEL</th>\n",
       "      <th>TEXT</th>\n",
       "    </tr>\n",
       "  </thead>\n",
       "  <tbody>\n",
       "    <tr>\n",
       "      <th>0</th>\n",
       "      <td>0</td>\n",
       "      <td>About to get threaded and scared</td>\n",
       "    </tr>\n",
       "    <tr>\n",
       "      <th>1</th>\n",
       "      <td>1</td>\n",
       "      <td>@awaisnaseer I like Shezan Mangooo too!!! I ha...</td>\n",
       "    </tr>\n",
       "  </tbody>\n",
       "</table>\n",
       "</div>"
      ],
      "text/plain": [
       "   LABEL                                               TEXT\n",
       "0      0                  About to get threaded and scared \n",
       "1      1  @awaisnaseer I like Shezan Mangooo too!!! I ha..."
      ]
     },
     "execution_count": 223,
     "metadata": {},
     "output_type": "execute_result"
    }
   ],
   "source": [
    "data=pd.read_csv('A1_dataset.csv')\n",
    "data_new = data[['LABEL', 'TEXT']].copy()\n",
    "data_new.head(2)"
   ]
  },
  {
   "cell_type": "code",
   "execution_count": 224,
   "metadata": {},
   "outputs": [],
   "source": [
    "#pip install vaderSentiment"
   ]
  },
  {
   "cell_type": "code",
   "execution_count": 225,
   "metadata": {},
   "outputs": [],
   "source": [
    "#nltk.download('vader_lexicon')"
   ]
  },
  {
   "cell_type": "markdown",
   "metadata": {},
   "source": [
    "## Helper Functions"
   ]
  },
  {
   "cell_type": "code",
   "execution_count": 226,
   "metadata": {},
   "outputs": [],
   "source": [
    "def tokenize(data):\n",
    "    data_new['TEXT'] = data_new['TEXT'].apply(word_tokenize) \n",
    "    return data_new['TEXT']\n",
    "\n",
    "def lower(data):\n",
    "    data_new['TEXT'] = data_new['TEXT'].astype(str).str.lower()\n",
    "    return data_new['TEXT']\n",
    "\n",
    "def remove_punctuations(data):\n",
    "    for punctuation in string.punctuation:\n",
    "        data = data.replace(punctuation, '')\n",
    "    return data\n",
    "\n",
    "def remove_punctuation_tokens(data):\n",
    "    data_new['TEXT'] = data_new['TEXT'].apply(remove_punctuations)\n",
    "    return data_new['TEXT']\n",
    "\n",
    "def remove_stopwords(data):\n",
    "    stop = list(stopwords.words(\"english\"))\n",
    "    data_new['TEXT'] = data_new['TEXT'].apply(lambda x: ' '.join([w for w in x.split() if w not in stop]))\n",
    "    return data_new['TEXT']\n",
    "\n",
    "def remove_URL(data):\n",
    "    return re.sub(r'http\\S+','', data)\n",
    "\n",
    "def remove_URL_data(data):\n",
    "    data_new['TEXT'] = data_new['TEXT'].apply(remove_URL)\n",
    "    return data_new['TEXT']\n",
    "\n",
    "def remove_HTMLTag(data):\n",
    "    return re.sub(r'&\\w+;','', data)\n",
    "\n",
    "def remove_HTMLTag_data(data):\n",
    "    data_new['TEXT'] = data_new['TEXT'].apply(remove_HTMLTag)\n",
    "    return data_new['TEXT']\n",
    "\n",
    "def lemmatize(data):\n",
    "        lemmatizer = WordNetLemmatizer()\n",
    "        lemmatize = [lemmatizer.lemmatize(x) for x in data]\n",
    "        return lemmatize\n",
    "    \n",
    "def lemmatize_data(data):\n",
    "    data_new['TEXT'] = data_new['TEXT'].apply(lemmatize)\n",
    "    return data_new['TEXT']\n",
    "\n",
    "\n",
    "def stemming(data):\n",
    "        # Porter stemmer\n",
    "        ps = PorterStemmer()\n",
    "        stem = [ps.stem(x) for x in data]\n",
    "        return stem\n",
    "    \n",
    "def stemming_data(data):\n",
    "    data_new['TEXT'] = data_new['TEXT'].apply(stemming)\n",
    "    return data_new['TEXT']\n",
    "\n",
    "def remove_username_func(data):\n",
    "    return re.sub(r'\\@\\w+|\\#|\\d+', '', data)\n",
    "\n",
    "def remove_username(data):\n",
    "    data_new['TEXT'] = data_new['TEXT'].apply(remove_username_func)\n",
    "    return data_new['TEXT']"
   ]
  },
  {
   "cell_type": "code",
   "execution_count": 227,
   "metadata": {},
   "outputs": [],
   "source": [
    "def remove_words_func(data):\n",
    "    return re.sub(r'\\b\\w{1,3}\\b', '', data)\n",
    "\n",
    "def remove_words(data):\n",
    "    data_new['TEXT'] = data_new['TEXT'].apply(remove_words_func)\n",
    "    return data_new['TEXT']\n",
    "\n",
    "def remove_white_spaces(data):\n",
    "    data_new['TEXT'] = data_new['TEXT'].apply(lambda x: x.strip())\n",
    "    return data_new['TEXT']\n",
    "\n",
    "def spell_correction(data):\n",
    "    spell = Speller()\n",
    "    data_new['TEXT'] = [' '.join([spell(i) for i in x.split()]) for x in data_new['TEXT']]\n",
    "    return data_new['TEXT']"
   ]
  },
  {
   "cell_type": "markdown",
   "metadata": {},
   "source": [
    "## VADER"
   ]
  },
  {
   "cell_type": "code",
   "execution_count": 245,
   "metadata": {},
   "outputs": [],
   "source": [
    "def a(data):\n",
    "    analyser = SentimentIntensityAnalyzer()\n",
    "    \n",
    "    polarity_score = []\n",
    "    #scores = []\n",
    "    \n",
    "    for text in data_new['TEXT']:\n",
    "        score = analyser.polarity_scores(text)\n",
    "        polarity_score.append(score)\n",
    "        # data_new['SCORE'] = data_new['TEXT'].apply(lambda text: sid.polarity_scores(text))\n",
    "\n",
    "    polarity_score = pd.DataFrame(polarity_score) #list of dictionaries of four values, 1 each for every sentence\n",
    "\n",
    "    data_new['Compound'] = polarity_score['compound']\n",
    "    data_new['Negative'] = polarity_score['neg']\n",
    "    data_new['Neutral'] = polarity_score['neu']\n",
    "    data_new['Positive'] = polarity_score['pos']\n",
    "    \n",
    "    return data_new"
   ]
  },
  {
   "cell_type": "code",
   "execution_count": 3,
   "metadata": {},
   "outputs": [
    {
     "data": {
      "text/html": [
       "<div>\n",
       "<style scoped>\n",
       "    .dataframe tbody tr th:only-of-type {\n",
       "        vertical-align: middle;\n",
       "    }\n",
       "\n",
       "    .dataframe tbody tr th {\n",
       "        vertical-align: top;\n",
       "    }\n",
       "\n",
       "    .dataframe thead th {\n",
       "        text-align: right;\n",
       "    }\n",
       "</style>\n",
       "<table border=\"1\" class=\"dataframe\">\n",
       "  <thead>\n",
       "    <tr style=\"text-align: right;\">\n",
       "      <th></th>\n",
       "      <th>1</th>\n",
       "      <th>2</th>\n",
       "    </tr>\n",
       "  </thead>\n",
       "  <tbody>\n",
       "    <tr>\n",
       "      <th>0</th>\n",
       "      <td>10</td>\n",
       "      <td>20</td>\n",
       "    </tr>\n",
       "    <tr>\n",
       "      <th>1</th>\n",
       "      <td>30</td>\n",
       "      <td>40</td>\n",
       "    </tr>\n",
       "  </tbody>\n",
       "</table>\n",
       "</div>"
      ],
      "text/plain": [
       "    1   2\n",
       "0  10  20\n",
       "1  30  40"
      ]
     },
     "execution_count": 3,
     "metadata": {},
     "output_type": "execute_result"
    }
   ],
   "source": [
    "# import pandas as pd\n",
    "# d = [{1:10, 2:20}, {1:30, 2:40}]\n",
    "# pd.DataFrame(d)"
   ]
  },
  {
   "cell_type": "code",
   "execution_count": 246,
   "metadata": {},
   "outputs": [],
   "source": [
    "def b(data):\n",
    "\n",
    "    pol_label = []\n",
    "    \n",
    "    for i in range(len(data)):\n",
    "        if(data_new['Compound'][i] >= 0.05):\n",
    "                pol_label.append(\"Positive\")\n",
    "             \n",
    "        elif(data_new['Compound'][i] <= -0.05):\n",
    "                pol_label.append(\"Negative\")\n",
    "               \n",
    "        else:\n",
    "            pol_label.append(\"Neutral\")\n",
    "\n",
    "    pol_label = pd.DataFrame(pol_label)\n",
    "    data_new['Polarity'] = pol_label\n",
    "    return data_new"
   ]
  },
  {
   "cell_type": "markdown",
   "metadata": {},
   "source": [
    "## Main"
   ]
  },
  {
   "cell_type": "code",
   "execution_count": 230,
   "metadata": {},
   "outputs": [],
   "source": [
    "def main():\n",
    "        t = remove_URL_data(data_new)       \n",
    "        t2 = remove_HTMLTag_data(t)\n",
    "        t3 = remove_username((t2))\n",
    "        x = spell_correction(str(t3))\n",
    "        t4 = tokenize(t3)\n",
    "        t5 = lemmatize_data(t4)\n",
    "        t6 = stemming_data(t5)\n",
    "        t7 = lower(t5)\n",
    "        t8 = remove_punctuation_tokens(t7)\n",
    "        t9 = remove_stopwords(t8)\n",
    "        t10 = remove_words(t9)\n",
    "        x2 = remove_white_spaces(t10)\n",
    "        t11 = a(t10)\n",
    "        t12 = b(t11)\n",
    "       # print(t12)          "
   ]
  },
  {
   "cell_type": "code",
   "execution_count": 231,
   "metadata": {},
   "outputs": [],
   "source": [
    "main()"
   ]
  },
  {
   "cell_type": "code",
   "execution_count": 232,
   "metadata": {},
   "outputs": [
    {
     "data": {
      "text/html": [
       "<div>\n",
       "<style scoped>\n",
       "    .dataframe tbody tr th:only-of-type {\n",
       "        vertical-align: middle;\n",
       "    }\n",
       "\n",
       "    .dataframe tbody tr th {\n",
       "        vertical-align: top;\n",
       "    }\n",
       "\n",
       "    .dataframe thead th {\n",
       "        text-align: right;\n",
       "    }\n",
       "</style>\n",
       "<table border=\"1\" class=\"dataframe\">\n",
       "  <thead>\n",
       "    <tr style=\"text-align: right;\">\n",
       "      <th></th>\n",
       "      <th>LABEL</th>\n",
       "      <th>TEXT</th>\n",
       "      <th>Compound</th>\n",
       "      <th>Negative</th>\n",
       "      <th>Neutral</th>\n",
       "      <th>Positive</th>\n",
       "      <th>Polarity</th>\n",
       "    </tr>\n",
       "  </thead>\n",
       "  <tbody>\n",
       "    <tr>\n",
       "      <th>0</th>\n",
       "      <td>0</td>\n",
       "      <td>thread scare</td>\n",
       "      <td>-0.4939</td>\n",
       "      <td>0.762</td>\n",
       "      <td>0.238</td>\n",
       "      <td>0.000</td>\n",
       "      <td>Negative</td>\n",
       "    </tr>\n",
       "    <tr>\n",
       "      <th>1</th>\n",
       "      <td>1</td>\n",
       "      <td>like sean mango  yesterday</td>\n",
       "      <td>0.3612</td>\n",
       "      <td>0.000</td>\n",
       "      <td>0.545</td>\n",
       "      <td>0.455</td>\n",
       "      <td>Positive</td>\n",
       "    </tr>\n",
       "    <tr>\n",
       "      <th>2</th>\n",
       "      <td>1</td>\n",
       "      <td>work  work show   sooooooooooo tire sparrow si...</td>\n",
       "      <td>0.0000</td>\n",
       "      <td>0.000</td>\n",
       "      <td>1.000</td>\n",
       "      <td>0.000</td>\n",
       "      <td>Neutral</td>\n",
       "    </tr>\n",
       "    <tr>\n",
       "      <th>3</th>\n",
       "      <td>1</td>\n",
       "      <td>actual start  afternoon  someth  slow process ...</td>\n",
       "      <td>0.0000</td>\n",
       "      <td>0.000</td>\n",
       "      <td>1.000</td>\n",
       "      <td>0.000</td>\n",
       "      <td>Neutral</td>\n",
       "    </tr>\n",
       "    <tr>\n",
       "      <th>4</th>\n",
       "      <td>1</td>\n",
       "      <td>gido  worryw vote nonstop  love much</td>\n",
       "      <td>0.6369</td>\n",
       "      <td>0.000</td>\n",
       "      <td>0.543</td>\n",
       "      <td>0.457</td>\n",
       "      <td>Positive</td>\n",
       "    </tr>\n",
       "  </tbody>\n",
       "</table>\n",
       "</div>"
      ],
      "text/plain": [
       "   LABEL                                               TEXT  Compound  \\\n",
       "0      0                                       thread scare   -0.4939   \n",
       "1      1                         like sean mango  yesterday    0.3612   \n",
       "2      1  work  work show   sooooooooooo tire sparrow si...    0.0000   \n",
       "3      1  actual start  afternoon  someth  slow process ...    0.0000   \n",
       "4      1               gido  worryw vote nonstop  love much    0.6369   \n",
       "\n",
       "   Negative  Neutral  Positive  Polarity  \n",
       "0     0.762    0.238     0.000  Negative  \n",
       "1     0.000    0.545     0.455  Positive  \n",
       "2     0.000    1.000     0.000   Neutral  \n",
       "3     0.000    1.000     0.000   Neutral  \n",
       "4     0.000    0.543     0.457  Positive  "
      ]
     },
     "execution_count": 232,
     "metadata": {},
     "output_type": "execute_result"
    }
   ],
   "source": [
    "data_new.head(5)"
   ]
  },
  {
   "cell_type": "markdown",
   "metadata": {},
   "source": [
    "## Accuracy On Processed Text"
   ]
  },
  {
   "cell_type": "code",
   "execution_count": 243,
   "metadata": {
    "scrolled": false
   },
   "outputs": [
    {
     "name": "stdout",
     "output_type": "stream",
     "text": [
      "Actual positive count:2105\n",
      "Actual negative count:573\n",
      "Total positive label:2287\n",
      "Total negative label:2000\n",
      "Positive accuracy = 92.04197638828158% of total 2287 samples\n",
      "Negative accuracy = 28.65% of total 2000 samples\n",
      "Overall Accuracy = 62.46792628878003% of total 4287 samples\n"
     ]
    }
   ],
   "source": [
    "count_pos = 0\n",
    "count_neg = 0\n",
    "tot_pos_count = 0\n",
    "tot_neg_count = 0\n",
    "    \n",
    "for i in range(len(data)):\n",
    "    if(data_new['LABEL'][i] == 1):\n",
    "        if(data_new['Compound'][i] > -0.01):\n",
    "            count_pos += 1\n",
    "        tot_pos_count += 1\n",
    "                \n",
    "    elif(data_new['LABEL'][i] == 0):    \n",
    "        if(data_new['Compound'][i] <= -0.01):\n",
    "            count_neg += 1\n",
    "        tot_neg_count += 1\n",
    "                \n",
    "    else:\n",
    "        polarity.append(\"Neutral\")\n",
    "                    \n",
    "print(\"Actual positive count:\" + str(count_pos))\n",
    "print(\"Actual negative count:\" + str(count_neg))\n",
    "print(\"Total positive label:\" + str(tot_pos_count))\n",
    "print(\"Total negative label:\" + str(tot_neg_count))\n",
    "\n",
    "print(\"Positive accuracy = {}% of total {} samples\".format(count_pos / tot_pos_count * 100.0, tot_pos_count))\n",
    "print(\"Negative accuracy = {}% of total {} samples\".format(count_neg / tot_neg_count * 100.0, tot_neg_count))\n",
    "print(\"Overall Accuracy = {}% of total {} samples\".format(((count_pos + count_neg) / (tot_pos_count + tot_neg_count)) * 100, tot_pos_count + tot_neg_count))"
   ]
  },
  {
   "cell_type": "markdown",
   "metadata": {},
   "source": [
    "## Accuracy On  Raw Text"
   ]
  },
  {
   "cell_type": "code",
   "execution_count": 257,
   "metadata": {},
   "outputs": [],
   "source": [
    "data_new = data[['LABEL', 'TEXT']].copy()"
   ]
  },
  {
   "cell_type": "code",
   "execution_count": 258,
   "metadata": {},
   "outputs": [],
   "source": [
    "def raw_text():\n",
    "    t11 = a(data_new)\n",
    "    t12 = b(t11)\n",
    "    #print(t12)  "
   ]
  },
  {
   "cell_type": "code",
   "execution_count": 259,
   "metadata": {},
   "outputs": [],
   "source": [
    "raw_text()"
   ]
  },
  {
   "cell_type": "code",
   "execution_count": 260,
   "metadata": {},
   "outputs": [
    {
     "data": {
      "text/html": [
       "<div>\n",
       "<style scoped>\n",
       "    .dataframe tbody tr th:only-of-type {\n",
       "        vertical-align: middle;\n",
       "    }\n",
       "\n",
       "    .dataframe tbody tr th {\n",
       "        vertical-align: top;\n",
       "    }\n",
       "\n",
       "    .dataframe thead th {\n",
       "        text-align: right;\n",
       "    }\n",
       "</style>\n",
       "<table border=\"1\" class=\"dataframe\">\n",
       "  <thead>\n",
       "    <tr style=\"text-align: right;\">\n",
       "      <th></th>\n",
       "      <th>LABEL</th>\n",
       "      <th>TEXT</th>\n",
       "      <th>Compound</th>\n",
       "      <th>Negative</th>\n",
       "      <th>Positive</th>\n",
       "      <th>Polarity</th>\n",
       "    </tr>\n",
       "  </thead>\n",
       "  <tbody>\n",
       "    <tr>\n",
       "      <th>0</th>\n",
       "      <td>0</td>\n",
       "      <td>About to get threaded and scared</td>\n",
       "      <td>-0.4404</td>\n",
       "      <td>0.367</td>\n",
       "      <td>0.000</td>\n",
       "      <td>Negative</td>\n",
       "    </tr>\n",
       "    <tr>\n",
       "      <th>1</th>\n",
       "      <td>1</td>\n",
       "      <td>@awaisnaseer I like Shezan Mangooo too!!! I ha...</td>\n",
       "      <td>0.5229</td>\n",
       "      <td>0.000</td>\n",
       "      <td>0.273</td>\n",
       "      <td>Positive</td>\n",
       "    </tr>\n",
       "    <tr>\n",
       "      <th>2</th>\n",
       "      <td>1</td>\n",
       "      <td>worked on my car after work. showering then go...</td>\n",
       "      <td>-0.4404</td>\n",
       "      <td>0.146</td>\n",
       "      <td>0.000</td>\n",
       "      <td>Negative</td>\n",
       "    </tr>\n",
       "    <tr>\n",
       "      <th>3</th>\n",
       "      <td>1</td>\n",
       "      <td>@Marama Actually we start this afternoon!  I w...</td>\n",
       "      <td>0.0000</td>\n",
       "      <td>0.000</td>\n",
       "      <td>0.000</td>\n",
       "      <td>Positive</td>\n",
       "    </tr>\n",
       "    <tr>\n",
       "      <th>4</th>\n",
       "      <td>1</td>\n",
       "      <td>@gfalcone601 Aww Gi.don't worry.we'll vote for...</td>\n",
       "      <td>0.6369</td>\n",
       "      <td>0.000</td>\n",
       "      <td>0.244</td>\n",
       "      <td>Positive</td>\n",
       "    </tr>\n",
       "    <tr>\n",
       "      <th>5</th>\n",
       "      <td>1</td>\n",
       "      <td>@mrstessyman What ever you do have a good day....</td>\n",
       "      <td>0.7964</td>\n",
       "      <td>0.000</td>\n",
       "      <td>0.415</td>\n",
       "      <td>Positive</td>\n",
       "    </tr>\n",
       "    <tr>\n",
       "      <th>6</th>\n",
       "      <td>1</td>\n",
       "      <td>@GetMeVideo Sorry, not my forte,  Ask me about...</td>\n",
       "      <td>-0.0772</td>\n",
       "      <td>0.080</td>\n",
       "      <td>0.000</td>\n",
       "      <td>Negative</td>\n",
       "    </tr>\n",
       "    <tr>\n",
       "      <th>7</th>\n",
       "      <td>1</td>\n",
       "      <td>Getting ready for church and bummed I cannot w...</td>\n",
       "      <td>0.3612</td>\n",
       "      <td>0.000</td>\n",
       "      <td>0.122</td>\n",
       "      <td>Positive</td>\n",
       "    </tr>\n",
       "    <tr>\n",
       "      <th>8</th>\n",
       "      <td>1</td>\n",
       "      <td>Up early tomorrow. Last open home. Goodnight</td>\n",
       "      <td>0.0000</td>\n",
       "      <td>0.000</td>\n",
       "      <td>0.000</td>\n",
       "      <td>Positive</td>\n",
       "    </tr>\n",
       "    <tr>\n",
       "      <th>9</th>\n",
       "      <td>0</td>\n",
       "      <td>Needs to shake this gloomy feeling!!    Maybe ...</td>\n",
       "      <td>-0.4721</td>\n",
       "      <td>0.350</td>\n",
       "      <td>0.115</td>\n",
       "      <td>Negative</td>\n",
       "    </tr>\n",
       "  </tbody>\n",
       "</table>\n",
       "</div>"
      ],
      "text/plain": [
       "   LABEL                                               TEXT  Compound  \\\n",
       "0      0                  About to get threaded and scared    -0.4404   \n",
       "1      1  @awaisnaseer I like Shezan Mangooo too!!! I ha...    0.5229   \n",
       "2      1  worked on my car after work. showering then go...   -0.4404   \n",
       "3      1  @Marama Actually we start this afternoon!  I w...    0.0000   \n",
       "4      1  @gfalcone601 Aww Gi.don't worry.we'll vote for...    0.6369   \n",
       "5      1  @mrstessyman What ever you do have a good day....    0.7964   \n",
       "6      1  @GetMeVideo Sorry, not my forte,  Ask me about...   -0.0772   \n",
       "7      1  Getting ready for church and bummed I cannot w...    0.3612   \n",
       "8      1      Up early tomorrow. Last open home. Goodnight     0.0000   \n",
       "9      0  Needs to shake this gloomy feeling!!    Maybe ...   -0.4721   \n",
       "\n",
       "   Negative  Positive  Polarity  \n",
       "0     0.367     0.000  Negative  \n",
       "1     0.000     0.273  Positive  \n",
       "2     0.146     0.000  Negative  \n",
       "3     0.000     0.000  Positive  \n",
       "4     0.000     0.244  Positive  \n",
       "5     0.000     0.415  Positive  \n",
       "6     0.080     0.000  Negative  \n",
       "7     0.000     0.122  Positive  \n",
       "8     0.000     0.000  Positive  \n",
       "9     0.350     0.115  Negative  "
      ]
     },
     "execution_count": 260,
     "metadata": {},
     "output_type": "execute_result"
    }
   ],
   "source": [
    "data_new.head(10)"
   ]
  },
  {
   "cell_type": "code",
   "execution_count": 263,
   "metadata": {},
   "outputs": [
    {
     "name": "stdout",
     "output_type": "stream",
     "text": [
      "Actual positive count:2057\n",
      "Actual negative count:884\n",
      "Total positive label:2287\n",
      "Total negative label:2000\n",
      "Positive accuracy = 89.94315697420201% of total 2287 samples\n",
      "Negative accuracy = 44.2% of total 2000 samples\n",
      "Overall Accuracy = 68.60275250758106% of total 4287 samples\n"
     ]
    }
   ],
   "source": [
    "count_pos = 0\n",
    "count_neg = 0\n",
    "tot_pos_count = 0\n",
    "tot_neg_count = 0\n",
    "    \n",
    "for i in range(len(data)):\n",
    "    if(data_new['LABEL'][i] == 1):\n",
    "        if(data_new['Compound'][i] > -0.01):\n",
    "            count_pos += 1 # predicted pos\n",
    "        tot_pos_count += 1 # actual pos\n",
    "                \n",
    "    elif(data_new['LABEL'][i] == 0):    \n",
    "        if(data_new['Compound'][i] <= -0.01):\n",
    "            count_neg += 1 # predicted neg\n",
    "        tot_neg_count += 1 # actual pos\n",
    "                \n",
    "    else:\n",
    "        polarity.append(\"Neutral\")\n",
    "                    \n",
    "print(\"Actual positive count:\" + str(count_pos))\n",
    "print(\"Actual negative count:\" + str(count_neg))\n",
    "print(\"Total positive label:\" + str(tot_pos_count))\n",
    "print(\"Total negative label:\" + str(tot_neg_count))\n",
    "\n",
    "print(\"Positive accuracy = {}% of total {} samples\".format(count_pos / tot_pos_count * 100.0, tot_pos_count))\n",
    "print(\"Negative accuracy = {}% of total {} samples\".format(count_neg / tot_neg_count * 100.0, tot_neg_count))\n",
    "print(\"Overall Accuracy = {}% of total {} samples\".format(((count_pos + count_neg) / (tot_pos_count + tot_neg_count)) * 100, tot_pos_count + tot_neg_count))"
   ]
  },
  {
   "cell_type": "code",
   "execution_count": 262,
   "metadata": {},
   "outputs": [],
   "source": [
    "#!pip install autocorrect"
   ]
  }
 ],
 "metadata": {
  "kernelspec": {
   "display_name": "Python 3 (ipykernel)",
   "language": "python",
   "name": "python3"
  },
  "language_info": {
   "codemirror_mode": {
    "name": "ipython",
    "version": 3
   },
   "file_extension": ".py",
   "mimetype": "text/x-python",
   "name": "python",
   "nbconvert_exporter": "python",
   "pygments_lexer": "ipython3",
   "version": "3.8.10"
  }
 },
 "nbformat": 4,
 "nbformat_minor": 4
}
